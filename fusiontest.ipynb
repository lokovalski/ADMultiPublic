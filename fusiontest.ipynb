{
 "cells": [
  {
   "cell_type": "code",
   "execution_count": 3,
   "metadata": {},
   "outputs": [],
   "source": [
    "from dataloader import *\n",
    "from unimodal_baseline import *\n",
    "#from experiment import *\n",
    "import torch\n",
    "import torch.nn as nn\n",
    "import torch.optim as optim\n",
    "from itertools import product\n",
    "from copy import deepcopy\n",
    "import numpy as np\n",
    "import matplotlib.pyplot as plt\n",
    "from sklearn.metrics import accuracy_score\n",
    "from sklearn.linear_model import LogisticRegression\n",
    "from sklearn.ensemble import RandomForestClassifier, GradientBoostingClassifier\n",
    "from sklearn.metrics import accuracy_score, precision_score, recall_score, f1_score\n"
   ]
  },
  {
   "cell_type": "code",
   "execution_count": 4,
   "metadata": {},
   "outputs": [
    {
     "name": "stdout",
     "output_type": "stream",
     "text": [
      "Training model for slice 6...\n"
     ]
    },
    {
     "name": "stderr",
     "output_type": "stream",
     "text": [
      "/Users/lolakovalski/Desktop/lola/code/ADmulti/dataloader.py:178: RuntimeWarning: Mean of empty slice\n",
      "  self._feature_means = np.nanmean(all_tabular, axis=0)\n",
      "/Users/lolakovalski/Desktop/lola/code/ADmulti/dataloader.py:178: RuntimeWarning: Mean of empty slice\n",
      "  self._feature_means = np.nanmean(all_tabular, axis=0)\n",
      "/Users/lolakovalski/Desktop/lola/code/ADmulti/dataloader.py:178: RuntimeWarning: Mean of empty slice\n",
      "  self._feature_means = np.nanmean(all_tabular, axis=0)\n",
      "/Users/lolakovalski/Desktop/lola/code/ADmulti/dataloader.py:178: RuntimeWarning: Mean of empty slice\n",
      "  self._feature_means = np.nanmean(all_tabular, axis=0)\n",
      "Training with early stopping:   0%|          | 0/20 [00:00<?, ?it/s]/Users/lolakovalski/Desktop/lola/code/ADmulti/dataloader.py:178: RuntimeWarning: Mean of empty slice\n",
      "  self._feature_means = np.nanmean(all_tabular, axis=0)\n",
      "/Users/lolakovalski/Desktop/lola/code/ADmulti/dataloader.py:178: RuntimeWarning: Mean of empty slice\n",
      "  self._feature_means = np.nanmean(all_tabular, axis=0)\n",
      "/Users/lolakovalski/Desktop/lola/code/ADmulti/dataloader.py:178: RuntimeWarning: Mean of empty slice\n",
      "  self._feature_means = np.nanmean(all_tabular, axis=0)\n",
      "/Users/lolakovalski/Desktop/lola/code/ADmulti/dataloader.py:178: RuntimeWarning: Mean of empty slice\n",
      "  self._feature_means = np.nanmean(all_tabular, axis=0)\n",
      "/Users/lolakovalski/Desktop/lola/code/ADmulti/dataloader.py:178: RuntimeWarning: Mean of empty slice\n",
      "  self._feature_means = np.nanmean(all_tabular, axis=0)\n",
      "/Users/lolakovalski/Desktop/lola/code/ADmulti/dataloader.py:178: RuntimeWarning: Mean of empty slice\n",
      "  self._feature_means = np.nanmean(all_tabular, axis=0)\n",
      "Training with early stopping:   5%|▌         | 1/20 [01:43<32:54, 103.93s/it]"
     ]
    },
    {
     "name": "stdout",
     "output_type": "stream",
     "text": [
      "  Epoch 1: loss=99.0717, val_f1=0.369\n"
     ]
    },
    {
     "name": "stderr",
     "output_type": "stream",
     "text": [
      "/Users/lolakovalski/Desktop/lola/code/ADmulti/dataloader.py:178: RuntimeWarning: Mean of empty slice\n",
      "  self._feature_means = np.nanmean(all_tabular, axis=0)\n",
      "/Users/lolakovalski/Desktop/lola/code/ADmulti/dataloader.py:178: RuntimeWarning: Mean of empty slice\n",
      "  self._feature_means = np.nanmean(all_tabular, axis=0)\n",
      "/Users/lolakovalski/Desktop/lola/code/ADmulti/dataloader.py:178: RuntimeWarning: Mean of empty slice\n",
      "  self._feature_means = np.nanmean(all_tabular, axis=0)\n",
      "/Users/lolakovalski/Desktop/lola/code/ADmulti/dataloader.py:178: RuntimeWarning: Mean of empty slice\n",
      "  self._feature_means = np.nanmean(all_tabular, axis=0)\n",
      "/Users/lolakovalski/Desktop/lola/code/ADmulti/dataloader.py:178: RuntimeWarning: Mean of empty slice\n",
      "  self._feature_means = np.nanmean(all_tabular, axis=0)\n",
      "/Users/lolakovalski/Desktop/lola/code/ADmulti/dataloader.py:178: RuntimeWarning: Mean of empty slice\n",
      "  self._feature_means = np.nanmean(all_tabular, axis=0)\n",
      "Training with early stopping:  10%|█         | 2/20 [03:26<30:59, 103.33s/it]"
     ]
    },
    {
     "name": "stdout",
     "output_type": "stream",
     "text": [
      "  Epoch 2: loss=98.7705, val_f1=0.327\n"
     ]
    },
    {
     "name": "stderr",
     "output_type": "stream",
     "text": [
      "/Users/lolakovalski/Desktop/lola/code/ADmulti/dataloader.py:178: RuntimeWarning: Mean of empty slice\n",
      "  self._feature_means = np.nanmean(all_tabular, axis=0)\n",
      "/Users/lolakovalski/Desktop/lola/code/ADmulti/dataloader.py:178: RuntimeWarning: Mean of empty slice\n",
      "  self._feature_means = np.nanmean(all_tabular, axis=0)\n",
      "/Users/lolakovalski/Desktop/lola/code/ADmulti/dataloader.py:178: RuntimeWarning: Mean of empty slice\n",
      "  self._feature_means = np.nanmean(all_tabular, axis=0)\n",
      "/Users/lolakovalski/Desktop/lola/code/ADmulti/dataloader.py:178: RuntimeWarning: Mean of empty slice\n",
      "  self._feature_means = np.nanmean(all_tabular, axis=0)\n",
      "/Users/lolakovalski/Desktop/lola/code/ADmulti/dataloader.py:178: RuntimeWarning: Mean of empty slice\n",
      "  self._feature_means = np.nanmean(all_tabular, axis=0)\n",
      "/Users/lolakovalski/Desktop/lola/code/ADmulti/dataloader.py:178: RuntimeWarning: Mean of empty slice\n",
      "  self._feature_means = np.nanmean(all_tabular, axis=0)\n",
      "Training with early stopping:  15%|█▌        | 3/20 [05:09<29:14, 103.18s/it]"
     ]
    },
    {
     "name": "stdout",
     "output_type": "stream",
     "text": [
      "  Epoch 3: loss=98.2190, val_f1=0.000\n"
     ]
    },
    {
     "name": "stderr",
     "output_type": "stream",
     "text": [
      "/Users/lolakovalski/Desktop/lola/code/ADmulti/dataloader.py:178: RuntimeWarning: Mean of empty slice\n",
      "  self._feature_means = np.nanmean(all_tabular, axis=0)\n",
      "/Users/lolakovalski/Desktop/lola/code/ADmulti/dataloader.py:178: RuntimeWarning: Mean of empty slice\n",
      "  self._feature_means = np.nanmean(all_tabular, axis=0)\n",
      "/Users/lolakovalski/Desktop/lola/code/ADmulti/dataloader.py:178: RuntimeWarning: Mean of empty slice\n",
      "  self._feature_means = np.nanmean(all_tabular, axis=0)\n",
      "/Users/lolakovalski/Desktop/lola/code/ADmulti/dataloader.py:178: RuntimeWarning: Mean of empty slice\n",
      "  self._feature_means = np.nanmean(all_tabular, axis=0)\n",
      "/Users/lolakovalski/Desktop/lola/code/ADmulti/dataloader.py:178: RuntimeWarning: Mean of empty slice\n",
      "  self._feature_means = np.nanmean(all_tabular, axis=0)\n",
      "/Users/lolakovalski/Desktop/lola/code/ADmulti/dataloader.py:178: RuntimeWarning: Mean of empty slice\n",
      "  self._feature_means = np.nanmean(all_tabular, axis=0)\n",
      "Training with early stopping:  20%|██        | 4/20 [06:54<27:40, 103.78s/it]"
     ]
    },
    {
     "name": "stdout",
     "output_type": "stream",
     "text": [
      "  Epoch 4: loss=97.7322, val_f1=0.000\n"
     ]
    },
    {
     "name": "stderr",
     "output_type": "stream",
     "text": [
      "/Users/lolakovalski/Desktop/lola/code/ADmulti/dataloader.py:178: RuntimeWarning: Mean of empty slice\n",
      "  self._feature_means = np.nanmean(all_tabular, axis=0)\n",
      "/Users/lolakovalski/Desktop/lola/code/ADmulti/dataloader.py:178: RuntimeWarning: Mean of empty slice\n",
      "  self._feature_means = np.nanmean(all_tabular, axis=0)\n",
      "/Users/lolakovalski/Desktop/lola/code/ADmulti/dataloader.py:178: RuntimeWarning: Mean of empty slice\n",
      "  self._feature_means = np.nanmean(all_tabular, axis=0)\n",
      "/Users/lolakovalski/Desktop/lola/code/ADmulti/dataloader.py:178: RuntimeWarning: Mean of empty slice\n",
      "  self._feature_means = np.nanmean(all_tabular, axis=0)\n",
      "/Users/lolakovalski/Desktop/lola/code/ADmulti/dataloader.py:178: RuntimeWarning: Mean of empty slice\n",
      "  self._feature_means = np.nanmean(all_tabular, axis=0)\n",
      "/Users/lolakovalski/Desktop/lola/code/ADmulti/dataloader.py:178: RuntimeWarning: Mean of empty slice\n",
      "  self._feature_means = np.nanmean(all_tabular, axis=0)\n",
      "Training with early stopping:  25%|██▌       | 5/20 [08:39<26:03, 104.21s/it]"
     ]
    },
    {
     "name": "stdout",
     "output_type": "stream",
     "text": [
      "  Epoch 5: loss=97.3686, val_f1=0.154\n"
     ]
    },
    {
     "name": "stderr",
     "output_type": "stream",
     "text": [
      "/Users/lolakovalski/Desktop/lola/code/ADmulti/dataloader.py:178: RuntimeWarning: Mean of empty slice\n",
      "  self._feature_means = np.nanmean(all_tabular, axis=0)\n",
      "/Users/lolakovalski/Desktop/lola/code/ADmulti/dataloader.py:178: RuntimeWarning: Mean of empty slice\n",
      "  self._feature_means = np.nanmean(all_tabular, axis=0)\n",
      "/Users/lolakovalski/Desktop/lola/code/ADmulti/dataloader.py:178: RuntimeWarning: Mean of empty slice\n",
      "  self._feature_means = np.nanmean(all_tabular, axis=0)\n",
      "/Users/lolakovalski/Desktop/lola/code/ADmulti/dataloader.py:178: RuntimeWarning: Mean of empty slice\n",
      "  self._feature_means = np.nanmean(all_tabular, axis=0)\n",
      "/Users/lolakovalski/Desktop/lola/code/ADmulti/dataloader.py:178: RuntimeWarning: Mean of empty slice\n",
      "  self._feature_means = np.nanmean(all_tabular, axis=0)\n",
      "/Users/lolakovalski/Desktop/lola/code/ADmulti/dataloader.py:178: RuntimeWarning: Mean of empty slice\n",
      "  self._feature_means = np.nanmean(all_tabular, axis=0)\n",
      "Training with early stopping:  30%|███       | 6/20 [10:24<24:23, 104.53s/it]"
     ]
    },
    {
     "name": "stdout",
     "output_type": "stream",
     "text": [
      "  Epoch 6: loss=97.3022, val_f1=0.609\n"
     ]
    },
    {
     "name": "stderr",
     "output_type": "stream",
     "text": [
      "/Users/lolakovalski/Desktop/lola/code/ADmulti/dataloader.py:178: RuntimeWarning: Mean of empty slice\n",
      "  self._feature_means = np.nanmean(all_tabular, axis=0)\n",
      "/Users/lolakovalski/Desktop/lola/code/ADmulti/dataloader.py:178: RuntimeWarning: Mean of empty slice\n",
      "  self._feature_means = np.nanmean(all_tabular, axis=0)\n",
      "/Users/lolakovalski/Desktop/lola/code/ADmulti/dataloader.py:178: RuntimeWarning: Mean of empty slice\n",
      "  self._feature_means = np.nanmean(all_tabular, axis=0)\n",
      "/Users/lolakovalski/Desktop/lola/code/ADmulti/dataloader.py:178: RuntimeWarning: Mean of empty slice\n",
      "  self._feature_means = np.nanmean(all_tabular, axis=0)\n",
      "/Users/lolakovalski/Desktop/lola/code/ADmulti/dataloader.py:178: RuntimeWarning: Mean of empty slice\n",
      "  self._feature_means = np.nanmean(all_tabular, axis=0)\n",
      "/Users/lolakovalski/Desktop/lola/code/ADmulti/dataloader.py:178: RuntimeWarning: Mean of empty slice\n",
      "  self._feature_means = np.nanmean(all_tabular, axis=0)\n",
      "Training with early stopping:  35%|███▌      | 7/20 [12:10<22:42, 104.84s/it]"
     ]
    },
    {
     "name": "stdout",
     "output_type": "stream",
     "text": [
      "  Epoch 7: loss=97.2608, val_f1=0.571\n"
     ]
    },
    {
     "name": "stderr",
     "output_type": "stream",
     "text": [
      "/Users/lolakovalski/Desktop/lola/code/ADmulti/dataloader.py:178: RuntimeWarning: Mean of empty slice\n",
      "  self._feature_means = np.nanmean(all_tabular, axis=0)\n",
      "/Users/lolakovalski/Desktop/lola/code/ADmulti/dataloader.py:178: RuntimeWarning: Mean of empty slice\n",
      "  self._feature_means = np.nanmean(all_tabular, axis=0)\n",
      "/Users/lolakovalski/Desktop/lola/code/ADmulti/dataloader.py:178: RuntimeWarning: Mean of empty slice\n",
      "  self._feature_means = np.nanmean(all_tabular, axis=0)\n",
      "/Users/lolakovalski/Desktop/lola/code/ADmulti/dataloader.py:178: RuntimeWarning: Mean of empty slice\n",
      "  self._feature_means = np.nanmean(all_tabular, axis=0)\n",
      "/Users/lolakovalski/Desktop/lola/code/ADmulti/dataloader.py:178: RuntimeWarning: Mean of empty slice\n",
      "  self._feature_means = np.nanmean(all_tabular, axis=0)\n",
      "/Users/lolakovalski/Desktop/lola/code/ADmulti/dataloader.py:178: RuntimeWarning: Mean of empty slice\n",
      "  self._feature_means = np.nanmean(all_tabular, axis=0)\n",
      "Training with early stopping:  40%|████      | 8/20 [13:54<20:54, 104.55s/it]"
     ]
    },
    {
     "name": "stdout",
     "output_type": "stream",
     "text": [
      "  Epoch 8: loss=97.2244, val_f1=0.600\n"
     ]
    },
    {
     "name": "stderr",
     "output_type": "stream",
     "text": [
      "/Users/lolakovalski/Desktop/lola/code/ADmulti/dataloader.py:178: RuntimeWarning: Mean of empty slice\n",
      "  self._feature_means = np.nanmean(all_tabular, axis=0)\n",
      "/Users/lolakovalski/Desktop/lola/code/ADmulti/dataloader.py:178: RuntimeWarning: Mean of empty slice\n",
      "  self._feature_means = np.nanmean(all_tabular, axis=0)\n",
      "/Users/lolakovalski/Desktop/lola/code/ADmulti/dataloader.py:178: RuntimeWarning: Mean of empty slice\n",
      "  self._feature_means = np.nanmean(all_tabular, axis=0)\n",
      "/Users/lolakovalski/Desktop/lola/code/ADmulti/dataloader.py:178: RuntimeWarning: Mean of empty slice\n",
      "  self._feature_means = np.nanmean(all_tabular, axis=0)\n",
      "/Users/lolakovalski/Desktop/lola/code/ADmulti/dataloader.py:178: RuntimeWarning: Mean of empty slice\n",
      "  self._feature_means = np.nanmean(all_tabular, axis=0)\n",
      "/Users/lolakovalski/Desktop/lola/code/ADmulti/dataloader.py:178: RuntimeWarning: Mean of empty slice\n",
      "  self._feature_means = np.nanmean(all_tabular, axis=0)\n",
      "Training with early stopping:  45%|████▌     | 9/20 [15:40<19:16, 105.13s/it]"
     ]
    },
    {
     "name": "stdout",
     "output_type": "stream",
     "text": [
      "  Epoch 9: loss=97.1279, val_f1=0.647\n"
     ]
    },
    {
     "name": "stderr",
     "output_type": "stream",
     "text": [
      "/Users/lolakovalski/Desktop/lola/code/ADmulti/dataloader.py:178: RuntimeWarning: Mean of empty slice\n",
      "  self._feature_means = np.nanmean(all_tabular, axis=0)\n",
      "/Users/lolakovalski/Desktop/lola/code/ADmulti/dataloader.py:178: RuntimeWarning: Mean of empty slice\n",
      "  self._feature_means = np.nanmean(all_tabular, axis=0)\n",
      "/Users/lolakovalski/Desktop/lola/code/ADmulti/dataloader.py:178: RuntimeWarning: Mean of empty slice\n",
      "  self._feature_means = np.nanmean(all_tabular, axis=0)\n",
      "/Users/lolakovalski/Desktop/lola/code/ADmulti/dataloader.py:178: RuntimeWarning: Mean of empty slice\n",
      "  self._feature_means = np.nanmean(all_tabular, axis=0)\n",
      "/Users/lolakovalski/Desktop/lola/code/ADmulti/dataloader.py:178: RuntimeWarning: Mean of empty slice\n",
      "  self._feature_means = np.nanmean(all_tabular, axis=0)\n",
      "/Users/lolakovalski/Desktop/lola/code/ADmulti/dataloader.py:178: RuntimeWarning: Mean of empty slice\n",
      "  self._feature_means = np.nanmean(all_tabular, axis=0)\n",
      "Training with early stopping:  50%|█████     | 10/20 [17:24<17:28, 104.88s/it]"
     ]
    },
    {
     "name": "stdout",
     "output_type": "stream",
     "text": [
      "  Epoch 10: loss=97.0823, val_f1=0.615\n"
     ]
    },
    {
     "name": "stderr",
     "output_type": "stream",
     "text": [
      "/Users/lolakovalski/Desktop/lola/code/ADmulti/dataloader.py:178: RuntimeWarning: Mean of empty slice\n",
      "  self._feature_means = np.nanmean(all_tabular, axis=0)\n",
      "/Users/lolakovalski/Desktop/lola/code/ADmulti/dataloader.py:178: RuntimeWarning: Mean of empty slice\n",
      "  self._feature_means = np.nanmean(all_tabular, axis=0)\n",
      "/Users/lolakovalski/Desktop/lola/code/ADmulti/dataloader.py:178: RuntimeWarning: Mean of empty slice\n",
      "  self._feature_means = np.nanmean(all_tabular, axis=0)\n",
      "/Users/lolakovalski/Desktop/lola/code/ADmulti/dataloader.py:178: RuntimeWarning: Mean of empty slice\n",
      "  self._feature_means = np.nanmean(all_tabular, axis=0)\n",
      "/Users/lolakovalski/Desktop/lola/code/ADmulti/dataloader.py:178: RuntimeWarning: Mean of empty slice\n",
      "  self._feature_means = np.nanmean(all_tabular, axis=0)\n",
      "/Users/lolakovalski/Desktop/lola/code/ADmulti/dataloader.py:178: RuntimeWarning: Mean of empty slice\n",
      "  self._feature_means = np.nanmean(all_tabular, axis=0)\n",
      "Training with early stopping:  55%|█████▌    | 11/20 [19:08<15:41, 104.58s/it]"
     ]
    },
    {
     "name": "stdout",
     "output_type": "stream",
     "text": [
      "  Epoch 11: loss=97.0264, val_f1=0.647\n"
     ]
    },
    {
     "name": "stderr",
     "output_type": "stream",
     "text": [
      "/Users/lolakovalski/Desktop/lola/code/ADmulti/dataloader.py:178: RuntimeWarning: Mean of empty slice\n",
      "  self._feature_means = np.nanmean(all_tabular, axis=0)\n",
      "/Users/lolakovalski/Desktop/lola/code/ADmulti/dataloader.py:178: RuntimeWarning: Mean of empty slice\n",
      "  self._feature_means = np.nanmean(all_tabular, axis=0)\n",
      "/Users/lolakovalski/Desktop/lola/code/ADmulti/dataloader.py:178: RuntimeWarning: Mean of empty slice\n",
      "  self._feature_means = np.nanmean(all_tabular, axis=0)\n",
      "/Users/lolakovalski/Desktop/lola/code/ADmulti/dataloader.py:178: RuntimeWarning: Mean of empty slice\n",
      "  self._feature_means = np.nanmean(all_tabular, axis=0)\n",
      "/Users/lolakovalski/Desktop/lola/code/ADmulti/dataloader.py:178: RuntimeWarning: Mean of empty slice\n",
      "  self._feature_means = np.nanmean(all_tabular, axis=0)\n",
      "/Users/lolakovalski/Desktop/lola/code/ADmulti/dataloader.py:178: RuntimeWarning: Mean of empty slice\n",
      "  self._feature_means = np.nanmean(all_tabular, axis=0)\n",
      "Training with early stopping:  60%|██████    | 12/20 [20:52<13:55, 104.39s/it]"
     ]
    },
    {
     "name": "stdout",
     "output_type": "stream",
     "text": [
      "  Epoch 12: loss=96.9918, val_f1=0.645\n"
     ]
    },
    {
     "name": "stderr",
     "output_type": "stream",
     "text": [
      "/Users/lolakovalski/Desktop/lola/code/ADmulti/dataloader.py:178: RuntimeWarning: Mean of empty slice\n",
      "  self._feature_means = np.nanmean(all_tabular, axis=0)\n",
      "/Users/lolakovalski/Desktop/lola/code/ADmulti/dataloader.py:178: RuntimeWarning: Mean of empty slice\n",
      "  self._feature_means = np.nanmean(all_tabular, axis=0)\n",
      "/Users/lolakovalski/Desktop/lola/code/ADmulti/dataloader.py:178: RuntimeWarning: Mean of empty slice\n",
      "  self._feature_means = np.nanmean(all_tabular, axis=0)\n",
      "/Users/lolakovalski/Desktop/lola/code/ADmulti/dataloader.py:178: RuntimeWarning: Mean of empty slice\n",
      "  self._feature_means = np.nanmean(all_tabular, axis=0)\n",
      "/Users/lolakovalski/Desktop/lola/code/ADmulti/dataloader.py:178: RuntimeWarning: Mean of empty slice\n",
      "  self._feature_means = np.nanmean(all_tabular, axis=0)\n",
      "/Users/lolakovalski/Desktop/lola/code/ADmulti/dataloader.py:178: RuntimeWarning: Mean of empty slice\n",
      "  self._feature_means = np.nanmean(all_tabular, axis=0)\n",
      "Training with early stopping:  65%|██████▌   | 13/20 [22:43<12:24, 106.36s/it]"
     ]
    },
    {
     "name": "stdout",
     "output_type": "stream",
     "text": [
      "  Epoch 13: loss=96.9191, val_f1=0.645\n"
     ]
    },
    {
     "name": "stderr",
     "output_type": "stream",
     "text": [
      "/Users/lolakovalski/Desktop/lola/code/ADmulti/dataloader.py:178: RuntimeWarning: Mean of empty slice\n",
      "  self._feature_means = np.nanmean(all_tabular, axis=0)\n",
      "/Users/lolakovalski/Desktop/lola/code/ADmulti/dataloader.py:178: RuntimeWarning: Mean of empty slice\n",
      "  self._feature_means = np.nanmean(all_tabular, axis=0)\n",
      "/Users/lolakovalski/Desktop/lola/code/ADmulti/dataloader.py:178: RuntimeWarning: Mean of empty slice\n",
      "  self._feature_means = np.nanmean(all_tabular, axis=0)\n",
      "/Users/lolakovalski/Desktop/lola/code/ADmulti/dataloader.py:178: RuntimeWarning: Mean of empty slice\n",
      "  self._feature_means = np.nanmean(all_tabular, axis=0)\n",
      "/Users/lolakovalski/Desktop/lola/code/ADmulti/dataloader.py:178: RuntimeWarning: Mean of empty slice\n",
      "  self._feature_means = np.nanmean(all_tabular, axis=0)\n",
      "/Users/lolakovalski/Desktop/lola/code/ADmulti/dataloader.py:178: RuntimeWarning: Mean of empty slice\n",
      "  self._feature_means = np.nanmean(all_tabular, axis=0)\n",
      "Training with early stopping:  70%|███████   | 14/20 [24:31<10:41, 106.84s/it]"
     ]
    },
    {
     "name": "stdout",
     "output_type": "stream",
     "text": [
      "  Epoch 14: loss=96.9250, val_f1=0.645\n"
     ]
    },
    {
     "name": "stderr",
     "output_type": "stream",
     "text": [
      "/Users/lolakovalski/Desktop/lola/code/ADmulti/dataloader.py:178: RuntimeWarning: Mean of empty slice\n",
      "  self._feature_means = np.nanmean(all_tabular, axis=0)\n",
      "/Users/lolakovalski/Desktop/lola/code/ADmulti/dataloader.py:178: RuntimeWarning: Mean of empty slice\n",
      "  self._feature_means = np.nanmean(all_tabular, axis=0)\n",
      "/Users/lolakovalski/Desktop/lola/code/ADmulti/dataloader.py:178: RuntimeWarning: Mean of empty slice\n",
      "  self._feature_means = np.nanmean(all_tabular, axis=0)\n",
      "/Users/lolakovalski/Desktop/lola/code/ADmulti/dataloader.py:178: RuntimeWarning: Mean of empty slice\n",
      "  self._feature_means = np.nanmean(all_tabular, axis=0)\n",
      "/Users/lolakovalski/Desktop/lola/code/ADmulti/dataloader.py:178: RuntimeWarning: Mean of empty slice\n",
      "  self._feature_means = np.nanmean(all_tabular, axis=0)\n",
      "/Users/lolakovalski/Desktop/lola/code/ADmulti/dataloader.py:178: RuntimeWarning: Mean of empty slice\n",
      "  self._feature_means = np.nanmean(all_tabular, axis=0)\n",
      "Training with early stopping:  75%|███████▌  | 15/20 [26:18<08:54, 106.94s/it]"
     ]
    },
    {
     "name": "stdout",
     "output_type": "stream",
     "text": [
      "  Epoch 15: loss=96.9064, val_f1=0.645\n"
     ]
    },
    {
     "name": "stderr",
     "output_type": "stream",
     "text": [
      "/Users/lolakovalski/Desktop/lola/code/ADmulti/dataloader.py:178: RuntimeWarning: Mean of empty slice\n",
      "  self._feature_means = np.nanmean(all_tabular, axis=0)\n",
      "/Users/lolakovalski/Desktop/lola/code/ADmulti/dataloader.py:178: RuntimeWarning: Mean of empty slice\n",
      "  self._feature_means = np.nanmean(all_tabular, axis=0)\n",
      "/Users/lolakovalski/Desktop/lola/code/ADmulti/dataloader.py:178: RuntimeWarning: Mean of empty slice\n",
      "  self._feature_means = np.nanmean(all_tabular, axis=0)\n",
      "/Users/lolakovalski/Desktop/lola/code/ADmulti/dataloader.py:178: RuntimeWarning: Mean of empty slice\n",
      "  self._feature_means = np.nanmean(all_tabular, axis=0)\n",
      "/Users/lolakovalski/Desktop/lola/code/ADmulti/dataloader.py:178: RuntimeWarning: Mean of empty slice\n",
      "  self._feature_means = np.nanmean(all_tabular, axis=0)\n",
      "/Users/lolakovalski/Desktop/lola/code/ADmulti/dataloader.py:178: RuntimeWarning: Mean of empty slice\n",
      "  self._feature_means = np.nanmean(all_tabular, axis=0)\n",
      "Training with early stopping:  75%|███████▌  | 15/20 [28:02<09:20, 112.15s/it]"
     ]
    },
    {
     "name": "stdout",
     "output_type": "stream",
     "text": [
      "  Epoch 16: loss=96.9116, val_f1=0.645\n",
      "  Early stopping triggered\n"
     ]
    },
    {
     "name": "stderr",
     "output_type": "stream",
     "text": [
      "\n"
     ]
    }
   ],
   "source": [
    "dataset = AlzheimerDataset('data')\n",
    "train_loader, val_loader, test_loader = get_data_loaders('data')\n",
    "mri_mod = MRIBaseline()\n",
    "mod, metrics = mri_mod.train_on_specific_slice(train_loader, val_loader, test_loader, 6)\n",
    "tab_mod = TabularBaseline()"
   ]
  },
  {
   "cell_type": "code",
   "execution_count": null,
   "metadata": {},
   "outputs": [
    {
     "name": "stderr",
     "output_type": "stream",
     "text": [
      "Loading training data:   0%|          | 0/8 [00:00<?, ?it/s]/Users/lolakovalski/Desktop/lola/code/ADmulti/dataloader.py:178: RuntimeWarning: Mean of empty slice\n",
      "  self._feature_means = np.nanmean(all_tabular, axis=0)\n",
      "/Users/lolakovalski/Desktop/lola/code/ADmulti/dataloader.py:178: RuntimeWarning: Mean of empty slice\n",
      "  self._feature_means = np.nanmean(all_tabular, axis=0)\n",
      "/Users/lolakovalski/Desktop/lola/code/ADmulti/dataloader.py:178: RuntimeWarning: Mean of empty slice\n",
      "  self._feature_means = np.nanmean(all_tabular, axis=0)\n",
      "/Users/lolakovalski/Desktop/lola/code/ADmulti/dataloader.py:178: RuntimeWarning: Mean of empty slice\n",
      "  self._feature_means = np.nanmean(all_tabular, axis=0)\n",
      "Loading training data: 100%|██████████| 8/8 [00:24<00:00,  3.05s/it]\n",
      "Loading test data:   0%|          | 0/2 [00:00<?, ?it/s]/Users/lolakovalski/Desktop/lola/code/ADmulti/dataloader.py:178: RuntimeWarning: Mean of empty slice\n",
      "  self._feature_means = np.nanmean(all_tabular, axis=0)\n",
      "/Users/lolakovalski/Desktop/lola/code/ADmulti/dataloader.py:178: RuntimeWarning: Mean of empty slice\n",
      "  self._feature_means = np.nanmean(all_tabular, axis=0)\n",
      "Loading test data: 100%|██████████| 2/2 [00:12<00:00,  6.17s/it]\n",
      "Loading validation data:   0%|          | 0/2 [00:00<?, ?it/s]/Users/lolakovalski/Desktop/lola/code/ADmulti/dataloader.py:178: RuntimeWarning: Mean of empty slice\n",
      "  self._feature_means = np.nanmean(all_tabular, axis=0)\n",
      "/Users/lolakovalski/Desktop/lola/code/ADmulti/dataloader.py:178: RuntimeWarning: Mean of empty slice\n",
      "  self._feature_means = np.nanmean(all_tabular, axis=0)\n",
      "Loading validation data: 100%|██████████| 2/2 [00:12<00:00,  6.22s/it]\n"
     ]
    }
   ],
   "source": [
    "tab_mod.load_data(train_loader, test_loader,val_loader)\n",
    "\n",
    "# Drop age for ablation study\n",
    "tab_mod.X_train = np.delete(tab_mod.X_train, 0, axis=1)\n",
    "tab_mod.X_val = np.delete(tab_mod.X_val, 0, axis=1)\n",
    "tab_mod.X_test = np.delete(tab_mod.X_test, 0, axis=1)\n",
    "tab_mod.feature_names.pop(0)\n",
    "\n",
    "tab_mod.train()"
   ]
  },
  {
   "cell_type": "code",
   "execution_count": 9,
   "metadata": {},
   "outputs": [],
   "source": [
    "mri_mod.model = copy.deepcopy(mod)"
   ]
  },
  {
   "cell_type": "code",
   "execution_count": 10,
   "metadata": {},
   "outputs": [
    {
     "name": "stderr",
     "output_type": "stream",
     "text": [
      "/Users/lolakovalski/Desktop/lola/code/ADmulti/dataloader.py:178: RuntimeWarning: Mean of empty slice\n",
      "  self._feature_means = np.nanmean(all_tabular, axis=0)\n",
      "/Users/lolakovalski/Desktop/lola/code/ADmulti/dataloader.py:178: RuntimeWarning: Mean of empty slice\n",
      "  self._feature_means = np.nanmean(all_tabular, axis=0)\n",
      "/Users/lolakovalski/Desktop/lola/code/ADmulti/dataloader.py:178: RuntimeWarning: Mean of empty slice\n",
      "  self._feature_means = np.nanmean(all_tabular, axis=0)\n",
      "/Users/lolakovalski/Desktop/lola/code/ADmulti/dataloader.py:178: RuntimeWarning: Mean of empty slice\n",
      "  self._feature_means = np.nanmean(all_tabular, axis=0)\n"
     ]
    }
   ],
   "source": [
    "cnn_features = []\n",
    "tabular_features = []\n",
    "labels = []\n",
    "\n",
    "# Use model up to the penultimate FC layer\n",
    "vgg_features = nn.Sequential(*list(mri_mod.model.classifier.children())[:-1])\n",
    "\n",
    "for batch in train_loader:\n",
    "    slice_img = batch['mri'][:, :, 6, :, :].to(mri_mod.device)\n",
    "    \n",
    "    with torch.no_grad():\n",
    "        # Pass through convolutional base\n",
    "        x = mri_mod.model.features(slice_img)\n",
    "        x = mri_mod.model.avgpool(x)\n",
    "        x = torch.flatten(x, 1)\n",
    "        \n",
    "        # Extract penultimate-layer features\n",
    "        feats = vgg_features(x)\n",
    "        feats = feats.cpu().numpy()\n",
    "\n",
    "    cnn_features.append(feats)\n",
    "    tabular_features.append(batch['tabular'].cpu().numpy())\n",
    "    labels.append(batch['label'].view(-1).cpu().numpy())\n",
    "\n",
    "#print(cnn_features)"
   ]
  },
  {
   "cell_type": "code",
   "execution_count": 13,
   "metadata": {},
   "outputs": [],
   "source": [
    "import torch\n",
    "import torch.nn as nn\n",
    "import torch.optim as optim\n",
    "import numpy as np\n",
    "from sklearn.metrics import accuracy_score, f1_score, precision_score, recall_score\n",
    "from sklearn.utils.validation import check_is_fitted, NotFittedError\n",
    "\n",
    "def is_fitted(model):\n",
    "    try:\n",
    "        check_is_fitted(model)\n",
    "        return True\n",
    "    except NotFittedError:\n",
    "        return False\n",
    "\n",
    "class EarlyFusion:\n",
    "    \"\"\"Early fusion model combining CNN and tabular features into a joint MLP classifier.\"\"\"\n",
    "    def __init__(self, device=None, tab_model=None, mri_model=None,\n",
    "                 mlp_hidden_dims=(64, 32), dropout=0.3, lr=0.0005, epochs=20, patience=5):\n",
    "        self.tab_model = tab_model if tab_model is not None else TabularBaseline()\n",
    "        self.mri_model = mri_model if mri_model is not None else MRIBaseline()\n",
    "        self.device = device or torch.device('cuda' if torch.cuda.is_available() else 'cpu')\n",
    "        self.fusion_mlp = None\n",
    "\n",
    "        # Hyperparams\n",
    "        self.mlp_hidden_dims = mlp_hidden_dims\n",
    "        self.dropout = dropout\n",
    "        self.lr = lr\n",
    "        self.epochs = epochs\n",
    "        self.patience = patience\n",
    "\n",
    "    def fit(self, train_loader, val_loader, test_loader, slice=6):\n",
    "        # Train tabular model if needed\n",
    "        if not is_fitted(self.tab_model.model):\n",
    "            print(\"Training tabular (RF) baseline...\")\n",
    "            #self.tab_model.load_data(train_loader, test_loader)\n",
    "            self.tab_model.train()\n",
    "        else:\n",
    "            print(\"Using pre-trained tabular (RF) baseline...\")\n",
    "\n",
    "        # Train MRI model if needed\n",
    "        if self.mri_model.model is None:\n",
    "            print(\"Training MRI (CNN) baseline...\")\n",
    "            self.mri_model.load_data(train_loader, test_loader)\n",
    "            if slice == -1:\n",
    "                self.mri_model.train_multi_slice_model(train_loader, test_loader, num_slices=9)\n",
    "                self.mri_model = copy.deepcopy(self.mri_model.multi_slice_model)\n",
    "            else:\n",
    "                self.mri_model.train_on_specific_slice(train_loader, val_loader, test_loader, slice_idx=slice)\n",
    "        else:\n",
    "            print(\"Using pre-trained MRI (CNN) baseline...\")\n",
    "\n",
    "        self.mri_model.model.eval()\n",
    "\n",
    "        # Extract features\n",
    "        print(\"Extracting features for fusion...\")\n",
    "        X_train_cnn, X_train_tab, y_train = self._extract_features(train_loader, self.mri_model, slice_idx=slice)\n",
    "        X_val_cnn, X_val_tab, y_val = self._extract_features(val_loader, self.mri_model, slice_idx=slice)\n",
    "        X_test_cnn, X_test_tab, y_test = self._extract_features(test_loader, self.mri_model, slice_idx=slice)\n",
    "\n",
    "        # ABLATION STUDY - manually dropping education\n",
    "        X_train_tab = np.delete(X_train_tab, 0, axis=1)\n",
    "        X_val_tab = np.delete(X_val_tab, 0, axis=1)\n",
    "        X_test_tab = np.delete(X_test_tab, 0, axis=1)\n",
    "\n",
    "        # Get RF probabilities for tabular data\n",
    "        X_train_rf = self.tab_model.model.predict_proba(X_train_tab)\n",
    "        X_val_rf = self.tab_model.model.predict_proba(X_val_tab)\n",
    "        X_test_rf = self.tab_model.model.predict_proba(X_test_tab)\n",
    "\n",
    "        # Concatenate\n",
    "        X_train_fused = np.concatenate([X_train_cnn, X_train_rf], axis=1)\n",
    "        X_val_fused = np.concatenate([X_val_cnn, X_val_rf], axis=1)\n",
    "        X_test_fused = np.concatenate([X_test_cnn, X_test_rf], axis=1)\n",
    "\n",
    "        # Train MLP\n",
    "        print(\"Training fusion MLP...\")\n",
    "        self.fusion_mlp = self._build_mlp(X_train_fused.shape[1], 2).to(self.device)\n",
    "        self._train_mlp(self.fusion_mlp, X_train_fused, y_train, X_val_fused, y_val)\n",
    "\n",
    "    def _extract_features(self, loader, cnn_model, slice_idx=6):\n",
    "        cnn_features = []\n",
    "        tabular_features = []\n",
    "        labels = []\n",
    "\n",
    "        cnn_model.model.eval()\n",
    "\n",
    "        for batch in loader:\n",
    "            slice_img = batch['mri'][:, :, slice_idx, :, :].to(self.device)\n",
    "            with torch.no_grad():\n",
    "                x = cnn_model.model.features(slice_img)\n",
    "                x = cnn_model.model.avgpool(x)\n",
    "                x = torch.flatten(x, 1)\n",
    "                x = cnn_model.model.classifier[0](x)\n",
    "                x = cnn_model.model.classifier[1](x)\n",
    "                x = cnn_model.model.classifier[2](x)\n",
    "                x = cnn_model.model.classifier[3](x)\n",
    "                x = cnn_model.model.classifier[4](x)\n",
    "                feats = x.cpu().numpy()\n",
    "\n",
    "            cnn_features.append(feats)\n",
    "            tabular_features.append(batch['tabular'].cpu().numpy())\n",
    "            labels.append(batch['label'].view(-1).cpu().numpy())\n",
    "\n",
    "        X_cnn = np.concatenate(cnn_features, axis=0)\n",
    "        X_tab = np.concatenate(tabular_features, axis=0)\n",
    "        y = np.concatenate(labels, axis=0)\n",
    "        return X_cnn, X_tab, y\n",
    "\n",
    "    def _build_mlp(self, input_dim, num_classes):\n",
    "        layers = []\n",
    "        dims = [input_dim] + list(self.mlp_hidden_dims)\n",
    "        for i in range(len(dims) - 1):\n",
    "            layers.append(nn.Linear(dims[i], dims[i + 1]))\n",
    "            layers.append(nn.ReLU())\n",
    "            layers.append(nn.Dropout(self.dropout))\n",
    "        layers.append(nn.Linear(dims[-1], num_classes))\n",
    "        return nn.Sequential(*layers)\n",
    "\n",
    "    def _train_mlp(self, model, X_train, y_train, X_val, y_val):\n",
    "        model.train()\n",
    "        optimizer = optim.Adam(model.parameters(), lr=self.lr)\n",
    "        criterion = nn.CrossEntropyLoss()\n",
    "        X_train = torch.FloatTensor(X_train).to(self.device)\n",
    "        y_train = torch.LongTensor(y_train).to(self.device)\n",
    "        X_val = torch.FloatTensor(X_val).to(self.device)\n",
    "        y_val = torch.LongTensor(y_val).to(self.device)\n",
    "        best_acc = 0\n",
    "        patience_counter = 0\n",
    "\n",
    "        for epoch in range(self.epochs):\n",
    "            optimizer.zero_grad()\n",
    "            logits = model(X_train)\n",
    "            loss = criterion(logits, y_train)\n",
    "            loss.backward()\n",
    "            optimizer.step()\n",
    "\n",
    "            # Evaluate on val\n",
    "            model.eval()\n",
    "            with torch.no_grad():\n",
    "                val_logits = model(X_val)\n",
    "                val_preds = torch.argmax(val_logits, dim=1)\n",
    "                acc = (val_preds == y_val).float().mean().item()\n",
    "            print(f\"Epoch {epoch+1}: Loss={loss.item():.4f}, Val Acc={acc:.3f}\")\n",
    "\n",
    "            if acc > best_acc:\n",
    "                best_acc = acc\n",
    "                patience_counter = 0\n",
    "            else:\n",
    "                patience_counter += 1\n",
    "                if patience_counter >= self.patience:\n",
    "                    print(\"Early stopping for fusion MLP.\")\n",
    "                    break\n",
    "            model.train()\n",
    "\n",
    "    def evaluate(self, test_loader, slice_idx=6):\n",
    "        if self.fusion_mlp is None:\n",
    "            raise ValueError(\"Fusion MLP not trained. Call fit() first.\")\n",
    "        cnn_model = self.mri_model.model\n",
    "        cnn_model.eval()\n",
    "        X_test_cnn, X_test_tab, y_test = self._extract_features(test_loader, self.mri_model, slice_idx)\n",
    "        X_test_tab = np.delete(X_test_tab, 0, axis=1)\n",
    "        X_test_rf = self.tab_model.model.predict_proba(X_test_tab)\n",
    "        X_test_fused = np.concatenate([X_test_cnn, X_test_rf], axis=1)\n",
    "\n",
    "        self.fusion_mlp.eval()\n",
    "        X_tensor = torch.FloatTensor(X_test_fused).to(self.device)\n",
    "        with torch.no_grad():\n",
    "            logits = self.fusion_mlp(X_tensor)\n",
    "            preds = torch.argmax(logits, dim=1).cpu().numpy()\n",
    "\n",
    "        acc = accuracy_score(y_test, preds)\n",
    "        f1 = f1_score(y_test, preds)\n",
    "        prec = precision_score(y_test, preds)\n",
    "        rec = recall_score(y_test, preds)\n",
    "        print(f\"Fusion Model - Accuracy: {acc:.3f}, F1: {f1:.3f}, Precision: {prec:.3f}, Recall: {rec:.3f}\")\n",
    "        return {'accuracy': acc, 'f1': f1, 'precision': prec, 'recall': rec}\n"
   ]
  },
  {
   "cell_type": "code",
   "execution_count": 13,
   "metadata": {},
   "outputs": [],
   "source": [
    "torch.save(mri_mod.model, 'mrimodeltorch')"
   ]
  },
  {
   "cell_type": "code",
   "execution_count": 14,
   "metadata": {},
   "outputs": [
    {
     "name": "stdout",
     "output_type": "stream",
     "text": [
      "Using pre-trained tabular (RF) baseline...\n",
      "Using pre-trained MRI (CNN) baseline...\n",
      "Extracting features for fusion...\n"
     ]
    },
    {
     "name": "stderr",
     "output_type": "stream",
     "text": [
      "/Users/lolakovalski/Desktop/lola/code/ADmulti/dataloader.py:178: RuntimeWarning: Mean of empty slice\n",
      "  self._feature_means = np.nanmean(all_tabular, axis=0)\n",
      "/Users/lolakovalski/Desktop/lola/code/ADmulti/dataloader.py:178: RuntimeWarning: Mean of empty slice\n",
      "  self._feature_means = np.nanmean(all_tabular, axis=0)\n",
      "/Users/lolakovalski/Desktop/lola/code/ADmulti/dataloader.py:178: RuntimeWarning: Mean of empty slice\n",
      "  self._feature_means = np.nanmean(all_tabular, axis=0)\n",
      "/Users/lolakovalski/Desktop/lola/code/ADmulti/dataloader.py:178: RuntimeWarning: Mean of empty slice\n",
      "  self._feature_means = np.nanmean(all_tabular, axis=0)\n",
      "/Users/lolakovalski/Desktop/lola/code/ADmulti/dataloader.py:178: RuntimeWarning: Mean of empty slice\n",
      "  self._feature_means = np.nanmean(all_tabular, axis=0)\n",
      "/Users/lolakovalski/Desktop/lola/code/ADmulti/dataloader.py:178: RuntimeWarning: Mean of empty slice\n",
      "  self._feature_means = np.nanmean(all_tabular, axis=0)\n",
      "/Users/lolakovalski/Desktop/lola/code/ADmulti/dataloader.py:178: RuntimeWarning: Mean of empty slice\n",
      "  self._feature_means = np.nanmean(all_tabular, axis=0)\n",
      "/Users/lolakovalski/Desktop/lola/code/ADmulti/dataloader.py:178: RuntimeWarning: Mean of empty slice\n",
      "  self._feature_means = np.nanmean(all_tabular, axis=0)\n"
     ]
    },
    {
     "name": "stdout",
     "output_type": "stream",
     "text": [
      "Training fusion MLP...\n",
      "Epoch 1: Loss=0.6703, Val Acc=0.774\n",
      "Epoch 2: Loss=0.6128, Val Acc=0.774\n",
      "Epoch 3: Loss=0.5637, Val Acc=0.774\n",
      "Epoch 4: Loss=0.5206, Val Acc=0.774\n",
      "Epoch 5: Loss=0.4909, Val Acc=0.755\n",
      "Epoch 6: Loss=0.4504, Val Acc=0.755\n",
      "Early stopping for fusion MLP.\n"
     ]
    }
   ],
   "source": [
    "early_mod = EarlyFusion(tab_model = tab_mod, mri_model = mri_mod)\n",
    "early_mod.fit(train_loader, val_loader, test_loader)"
   ]
  },
  {
   "cell_type": "code",
   "execution_count": 15,
   "metadata": {},
   "outputs": [
    {
     "name": "stderr",
     "output_type": "stream",
     "text": [
      "/Users/lolakovalski/Desktop/lola/code/ADmulti/dataloader.py:178: RuntimeWarning: Mean of empty slice\n",
      "  self._feature_means = np.nanmean(all_tabular, axis=0)\n",
      "/Users/lolakovalski/Desktop/lola/code/ADmulti/dataloader.py:178: RuntimeWarning: Mean of empty slice\n",
      "  self._feature_means = np.nanmean(all_tabular, axis=0)\n",
      "/Users/lolakovalski/Desktop/lola/code/ADmulti/dataloader.py:178: RuntimeWarning: Mean of empty slice\n",
      "  self._feature_means = np.nanmean(all_tabular, axis=0)\n",
      "/Users/lolakovalski/Desktop/lola/code/ADmulti/dataloader.py:178: RuntimeWarning: Mean of empty slice\n",
      "  self._feature_means = np.nanmean(all_tabular, axis=0)\n"
     ]
    },
    {
     "name": "stdout",
     "output_type": "stream",
     "text": [
      "Fusion Model - Accuracy: 0.798, F1: 0.359, Precision: 0.778, Recall: 0.233\n"
     ]
    },
    {
     "name": "stderr",
     "output_type": "stream",
     "text": [
      "/Users/lolakovalski/Desktop/lola/code/ADmulti/dataloader.py:178: RuntimeWarning: Mean of empty slice\n",
      "  self._feature_means = np.nanmean(all_tabular, axis=0)\n",
      "/Users/lolakovalski/Desktop/lola/code/ADmulti/dataloader.py:178: RuntimeWarning: Mean of empty slice\n",
      "  self._feature_means = np.nanmean(all_tabular, axis=0)\n"
     ]
    },
    {
     "name": "stdout",
     "output_type": "stream",
     "text": [
      "Fusion Model - Accuracy: 0.755, F1: 0.133, Precision: 0.333, Recall: 0.083\n"
     ]
    },
    {
     "name": "stderr",
     "output_type": "stream",
     "text": [
      "/Users/lolakovalski/Desktop/lola/code/ADmulti/dataloader.py:178: RuntimeWarning: Mean of empty slice\n",
      "  self._feature_means = np.nanmean(all_tabular, axis=0)\n",
      "/Users/lolakovalski/Desktop/lola/code/ADmulti/dataloader.py:178: RuntimeWarning: Mean of empty slice\n",
      "  self._feature_means = np.nanmean(all_tabular, axis=0)\n"
     ]
    },
    {
     "name": "stdout",
     "output_type": "stream",
     "text": [
      "Fusion Model - Accuracy: 0.759, F1: 0.235, Precision: 1.000, Recall: 0.133\n"
     ]
    },
    {
     "data": {
      "text/plain": [
       "{'accuracy': 0.7592592592592593,\n",
       " 'f1': 0.23529411764705882,\n",
       " 'precision': 1.0,\n",
       " 'recall': 0.13333333333333333}"
      ]
     },
     "execution_count": 15,
     "metadata": {},
     "output_type": "execute_result"
    }
   ],
   "source": [
    "early_mod.evaluate(train_loader)\n",
    "early_mod.evaluate(val_loader)\n",
    "early_mod.evaluate(test_loader)"
   ]
  },
  {
   "cell_type": "code",
   "execution_count": 25,
   "metadata": {},
   "outputs": [],
   "source": [
    "param_grid = {\n",
    "    'mlp_hidden_dims': [(64, ), (64,32), (128, 64), (256, 128)],\n",
    "    'dropout': [0.3, 0.5],\n",
    "    'lr': [1e-3, 5e-4],\n",
    "    'epochs': [20],\n",
    "    'patience': [5]\n",
    "}"
   ]
  },
  {
   "cell_type": "code",
   "execution_count": 23,
   "metadata": {},
   "outputs": [],
   "source": [
    "def grid_search_early_fusion(train_loader, val_loader, test_loader, dataset, param_grid, slice_idx=6):\n",
    "    all_results = []\n",
    "    top_models = []\n",
    "\n",
    "    keys, values = zip(*param_grid.items())\n",
    "    combinations = list(product(*values))\n",
    "\n",
    "    for combo in combinations:\n",
    "        params = dict(zip(keys, combo))\n",
    "        print(f\"\\n>> Training with params: {params}\")\n",
    "\n",
    "        model = EarlyFusion(\n",
    "            tab_model = tab_mod,\n",
    "            mri_model = mri_mod,\n",
    "            mlp_hidden_dims=params['mlp_hidden_dims'],\n",
    "            dropout=params['dropout'],\n",
    "            lr=params['lr'],\n",
    "            epochs=params['epochs'],\n",
    "            patience=params['patience']\n",
    "        )\n",
    "\n",
    "        model.fit(train_loader, val_loader, test_loader, slice=slice_idx)\n",
    "        metrics = model.evaluate(val_loader, slice_idx=slice_idx)\n",
    "\n",
    "        all_results.append((params, metrics, deepcopy(model)))\n",
    "\n",
    "    all_results.sort(key=lambda x: x[1]['f1'], reverse=True)\n",
    "    top_models = all_results[:3]\n",
    "    return top_models, all_results\n"
   ]
  },
  {
   "cell_type": "code",
   "execution_count": 26,
   "metadata": {},
   "outputs": [
    {
     "name": "stdout",
     "output_type": "stream",
     "text": [
      "\n",
      ">> Training with params: {'mlp_hidden_dims': (64,), 'dropout': 0.3, 'lr': 0.001, 'epochs': 20, 'patience': 5}\n",
      "Using pre-trained tabular (RF) baseline...\n",
      "Using pre-trained MRI (CNN) baseline...\n",
      "Extracting features for fusion...\n"
     ]
    },
    {
     "name": "stderr",
     "output_type": "stream",
     "text": [
      "/Users/lolakovalski/Desktop/lola/code/ADmulti/dataloader.py:178: RuntimeWarning: Mean of empty slice\n",
      "  self._feature_means = np.nanmean(all_tabular, axis=0)\n",
      "/Users/lolakovalski/Desktop/lola/code/ADmulti/dataloader.py:178: RuntimeWarning: Mean of empty slice\n",
      "  self._feature_means = np.nanmean(all_tabular, axis=0)\n",
      "/Users/lolakovalski/Desktop/lola/code/ADmulti/dataloader.py:178: RuntimeWarning: Mean of empty slice\n",
      "  self._feature_means = np.nanmean(all_tabular, axis=0)\n",
      "/Users/lolakovalski/Desktop/lola/code/ADmulti/dataloader.py:178: RuntimeWarning: Mean of empty slice\n",
      "  self._feature_means = np.nanmean(all_tabular, axis=0)\n",
      "/Users/lolakovalski/Desktop/lola/code/ADmulti/dataloader.py:178: RuntimeWarning: Mean of empty slice\n",
      "  self._feature_means = np.nanmean(all_tabular, axis=0)\n",
      "/Users/lolakovalski/Desktop/lola/code/ADmulti/dataloader.py:178: RuntimeWarning: Mean of empty slice\n",
      "  self._feature_means = np.nanmean(all_tabular, axis=0)\n",
      "/Users/lolakovalski/Desktop/lola/code/ADmulti/dataloader.py:178: RuntimeWarning: Mean of empty slice\n",
      "  self._feature_means = np.nanmean(all_tabular, axis=0)\n",
      "/Users/lolakovalski/Desktop/lola/code/ADmulti/dataloader.py:178: RuntimeWarning: Mean of empty slice\n",
      "  self._feature_means = np.nanmean(all_tabular, axis=0)\n"
     ]
    },
    {
     "name": "stdout",
     "output_type": "stream",
     "text": [
      "Training fusion MLP...\n",
      "Epoch 1: Loss=0.6766, Val Acc=0.774\n",
      "Epoch 2: Loss=0.4745, Val Acc=0.774\n",
      "Epoch 3: Loss=0.3906, Val Acc=0.792\n",
      "Epoch 4: Loss=0.3259, Val Acc=0.830\n",
      "Epoch 5: Loss=0.2809, Val Acc=0.792\n",
      "Epoch 6: Loss=0.2801, Val Acc=0.792\n",
      "Epoch 7: Loss=0.2841, Val Acc=0.792\n",
      "Epoch 8: Loss=0.2791, Val Acc=0.792\n",
      "Epoch 9: Loss=0.2885, Val Acc=0.792\n",
      "Early stopping for fusion MLP.\n"
     ]
    },
    {
     "name": "stderr",
     "output_type": "stream",
     "text": [
      "/Users/lolakovalski/Desktop/lola/code/ADmulti/dataloader.py:178: RuntimeWarning: Mean of empty slice\n",
      "  self._feature_means = np.nanmean(all_tabular, axis=0)\n",
      "/Users/lolakovalski/Desktop/lola/code/ADmulti/dataloader.py:178: RuntimeWarning: Mean of empty slice\n",
      "  self._feature_means = np.nanmean(all_tabular, axis=0)\n"
     ]
    },
    {
     "name": "stdout",
     "output_type": "stream",
     "text": [
      "Fusion Model - Accuracy: 0.792, F1: 0.560, Precision: 0.538, Recall: 0.583\n",
      "\n",
      ">> Training with params: {'mlp_hidden_dims': (64,), 'dropout': 0.3, 'lr': 0.0005, 'epochs': 20, 'patience': 5}\n",
      "Using pre-trained tabular (RF) baseline...\n",
      "Using pre-trained MRI (CNN) baseline...\n",
      "Extracting features for fusion...\n"
     ]
    },
    {
     "name": "stderr",
     "output_type": "stream",
     "text": [
      "/Users/lolakovalski/Desktop/lola/code/ADmulti/dataloader.py:178: RuntimeWarning: Mean of empty slice\n",
      "  self._feature_means = np.nanmean(all_tabular, axis=0)\n",
      "/Users/lolakovalski/Desktop/lola/code/ADmulti/dataloader.py:178: RuntimeWarning: Mean of empty slice\n",
      "  self._feature_means = np.nanmean(all_tabular, axis=0)\n",
      "/Users/lolakovalski/Desktop/lola/code/ADmulti/dataloader.py:178: RuntimeWarning: Mean of empty slice\n",
      "  self._feature_means = np.nanmean(all_tabular, axis=0)\n",
      "/Users/lolakovalski/Desktop/lola/code/ADmulti/dataloader.py:178: RuntimeWarning: Mean of empty slice\n",
      "  self._feature_means = np.nanmean(all_tabular, axis=0)\n",
      "/Users/lolakovalski/Desktop/lola/code/ADmulti/dataloader.py:178: RuntimeWarning: Mean of empty slice\n",
      "  self._feature_means = np.nanmean(all_tabular, axis=0)\n",
      "/Users/lolakovalski/Desktop/lola/code/ADmulti/dataloader.py:178: RuntimeWarning: Mean of empty slice\n",
      "  self._feature_means = np.nanmean(all_tabular, axis=0)\n",
      "/Users/lolakovalski/Desktop/lola/code/ADmulti/dataloader.py:178: RuntimeWarning: Mean of empty slice\n",
      "  self._feature_means = np.nanmean(all_tabular, axis=0)\n",
      "/Users/lolakovalski/Desktop/lola/code/ADmulti/dataloader.py:178: RuntimeWarning: Mean of empty slice\n",
      "  self._feature_means = np.nanmean(all_tabular, axis=0)\n"
     ]
    },
    {
     "name": "stdout",
     "output_type": "stream",
     "text": [
      "Training fusion MLP...\n",
      "Epoch 1: Loss=0.6398, Val Acc=0.774\n",
      "Epoch 2: Loss=0.5023, Val Acc=0.774\n",
      "Epoch 3: Loss=0.4314, Val Acc=0.792\n",
      "Epoch 4: Loss=0.3757, Val Acc=0.792\n",
      "Epoch 5: Loss=0.3408, Val Acc=0.811\n",
      "Epoch 6: Loss=0.3115, Val Acc=0.792\n",
      "Epoch 7: Loss=0.2937, Val Acc=0.792\n",
      "Epoch 8: Loss=0.2896, Val Acc=0.792\n",
      "Epoch 9: Loss=0.2772, Val Acc=0.792\n",
      "Epoch 10: Loss=0.2714, Val Acc=0.792\n",
      "Early stopping for fusion MLP.\n"
     ]
    },
    {
     "name": "stderr",
     "output_type": "stream",
     "text": [
      "/Users/lolakovalski/Desktop/lola/code/ADmulti/dataloader.py:178: RuntimeWarning: Mean of empty slice\n",
      "  self._feature_means = np.nanmean(all_tabular, axis=0)\n",
      "/Users/lolakovalski/Desktop/lola/code/ADmulti/dataloader.py:178: RuntimeWarning: Mean of empty slice\n",
      "  self._feature_means = np.nanmean(all_tabular, axis=0)\n"
     ]
    },
    {
     "name": "stdout",
     "output_type": "stream",
     "text": [
      "Fusion Model - Accuracy: 0.792, F1: 0.560, Precision: 0.538, Recall: 0.583\n",
      "\n",
      ">> Training with params: {'mlp_hidden_dims': (64,), 'dropout': 0.5, 'lr': 0.001, 'epochs': 20, 'patience': 5}\n",
      "Using pre-trained tabular (RF) baseline...\n",
      "Using pre-trained MRI (CNN) baseline...\n",
      "Extracting features for fusion...\n"
     ]
    },
    {
     "name": "stderr",
     "output_type": "stream",
     "text": [
      "/Users/lolakovalski/Desktop/lola/code/ADmulti/dataloader.py:178: RuntimeWarning: Mean of empty slice\n",
      "  self._feature_means = np.nanmean(all_tabular, axis=0)\n",
      "/Users/lolakovalski/Desktop/lola/code/ADmulti/dataloader.py:178: RuntimeWarning: Mean of empty slice\n",
      "  self._feature_means = np.nanmean(all_tabular, axis=0)\n",
      "/Users/lolakovalski/Desktop/lola/code/ADmulti/dataloader.py:178: RuntimeWarning: Mean of empty slice\n",
      "  self._feature_means = np.nanmean(all_tabular, axis=0)\n",
      "/Users/lolakovalski/Desktop/lola/code/ADmulti/dataloader.py:178: RuntimeWarning: Mean of empty slice\n",
      "  self._feature_means = np.nanmean(all_tabular, axis=0)\n",
      "/Users/lolakovalski/Desktop/lola/code/ADmulti/dataloader.py:178: RuntimeWarning: Mean of empty slice\n",
      "  self._feature_means = np.nanmean(all_tabular, axis=0)\n",
      "/Users/lolakovalski/Desktop/lola/code/ADmulti/dataloader.py:178: RuntimeWarning: Mean of empty slice\n",
      "  self._feature_means = np.nanmean(all_tabular, axis=0)\n",
      "/Users/lolakovalski/Desktop/lola/code/ADmulti/dataloader.py:178: RuntimeWarning: Mean of empty slice\n",
      "  self._feature_means = np.nanmean(all_tabular, axis=0)\n",
      "/Users/lolakovalski/Desktop/lola/code/ADmulti/dataloader.py:178: RuntimeWarning: Mean of empty slice\n",
      "  self._feature_means = np.nanmean(all_tabular, axis=0)\n"
     ]
    },
    {
     "name": "stdout",
     "output_type": "stream",
     "text": [
      "Training fusion MLP...\n",
      "Epoch 1: Loss=0.6740, Val Acc=0.774\n",
      "Epoch 2: Loss=0.4862, Val Acc=0.830\n",
      "Epoch 3: Loss=0.3761, Val Acc=0.774\n",
      "Epoch 4: Loss=0.3142, Val Acc=0.830\n",
      "Epoch 5: Loss=0.3092, Val Acc=0.792\n",
      "Epoch 6: Loss=0.2802, Val Acc=0.792\n",
      "Epoch 7: Loss=0.3276, Val Acc=0.792\n",
      "Early stopping for fusion MLP.\n"
     ]
    },
    {
     "name": "stderr",
     "output_type": "stream",
     "text": [
      "/Users/lolakovalski/Desktop/lola/code/ADmulti/dataloader.py:178: RuntimeWarning: Mean of empty slice\n",
      "  self._feature_means = np.nanmean(all_tabular, axis=0)\n",
      "/Users/lolakovalski/Desktop/lola/code/ADmulti/dataloader.py:178: RuntimeWarning: Mean of empty slice\n",
      "  self._feature_means = np.nanmean(all_tabular, axis=0)\n"
     ]
    },
    {
     "name": "stdout",
     "output_type": "stream",
     "text": [
      "Fusion Model - Accuracy: 0.792, F1: 0.560, Precision: 0.538, Recall: 0.583\n",
      "\n",
      ">> Training with params: {'mlp_hidden_dims': (64,), 'dropout': 0.5, 'lr': 0.0005, 'epochs': 20, 'patience': 5}\n",
      "Using pre-trained tabular (RF) baseline...\n",
      "Using pre-trained MRI (CNN) baseline...\n",
      "Extracting features for fusion...\n"
     ]
    },
    {
     "name": "stderr",
     "output_type": "stream",
     "text": [
      "/Users/lolakovalski/Desktop/lola/code/ADmulti/dataloader.py:178: RuntimeWarning: Mean of empty slice\n",
      "  self._feature_means = np.nanmean(all_tabular, axis=0)\n",
      "/Users/lolakovalski/Desktop/lola/code/ADmulti/dataloader.py:178: RuntimeWarning: Mean of empty slice\n",
      "  self._feature_means = np.nanmean(all_tabular, axis=0)\n",
      "/Users/lolakovalski/Desktop/lola/code/ADmulti/dataloader.py:178: RuntimeWarning: Mean of empty slice\n",
      "  self._feature_means = np.nanmean(all_tabular, axis=0)\n",
      "/Users/lolakovalski/Desktop/lola/code/ADmulti/dataloader.py:178: RuntimeWarning: Mean of empty slice\n",
      "  self._feature_means = np.nanmean(all_tabular, axis=0)\n",
      "/Users/lolakovalski/Desktop/lola/code/ADmulti/dataloader.py:178: RuntimeWarning: Mean of empty slice\n",
      "  self._feature_means = np.nanmean(all_tabular, axis=0)\n",
      "/Users/lolakovalski/Desktop/lola/code/ADmulti/dataloader.py:178: RuntimeWarning: Mean of empty slice\n",
      "  self._feature_means = np.nanmean(all_tabular, axis=0)\n",
      "/Users/lolakovalski/Desktop/lola/code/ADmulti/dataloader.py:178: RuntimeWarning: Mean of empty slice\n",
      "  self._feature_means = np.nanmean(all_tabular, axis=0)\n",
      "/Users/lolakovalski/Desktop/lola/code/ADmulti/dataloader.py:178: RuntimeWarning: Mean of empty slice\n",
      "  self._feature_means = np.nanmean(all_tabular, axis=0)\n"
     ]
    },
    {
     "name": "stdout",
     "output_type": "stream",
     "text": [
      "Training fusion MLP...\n",
      "Epoch 1: Loss=0.7319, Val Acc=0.774\n",
      "Epoch 2: Loss=0.5426, Val Acc=0.774\n",
      "Epoch 3: Loss=0.4544, Val Acc=0.774\n",
      "Epoch 4: Loss=0.4115, Val Acc=0.811\n",
      "Epoch 5: Loss=0.3774, Val Acc=0.792\n",
      "Epoch 6: Loss=0.3413, Val Acc=0.774\n",
      "Epoch 7: Loss=0.3039, Val Acc=0.830\n",
      "Epoch 8: Loss=0.2874, Val Acc=0.811\n",
      "Epoch 9: Loss=0.2879, Val Acc=0.792\n",
      "Epoch 10: Loss=0.2923, Val Acc=0.792\n",
      "Epoch 11: Loss=0.2750, Val Acc=0.792\n",
      "Epoch 12: Loss=0.2820, Val Acc=0.792\n",
      "Early stopping for fusion MLP.\n"
     ]
    },
    {
     "name": "stderr",
     "output_type": "stream",
     "text": [
      "/Users/lolakovalski/Desktop/lola/code/ADmulti/dataloader.py:178: RuntimeWarning: Mean of empty slice\n",
      "  self._feature_means = np.nanmean(all_tabular, axis=0)\n",
      "/Users/lolakovalski/Desktop/lola/code/ADmulti/dataloader.py:178: RuntimeWarning: Mean of empty slice\n",
      "  self._feature_means = np.nanmean(all_tabular, axis=0)\n"
     ]
    },
    {
     "name": "stdout",
     "output_type": "stream",
     "text": [
      "Fusion Model - Accuracy: 0.792, F1: 0.560, Precision: 0.538, Recall: 0.583\n",
      "\n",
      ">> Training with params: {'mlp_hidden_dims': (64, 32), 'dropout': 0.3, 'lr': 0.001, 'epochs': 20, 'patience': 5}\n",
      "Using pre-trained tabular (RF) baseline...\n",
      "Using pre-trained MRI (CNN) baseline...\n",
      "Extracting features for fusion...\n"
     ]
    },
    {
     "name": "stderr",
     "output_type": "stream",
     "text": [
      "/Users/lolakovalski/Desktop/lola/code/ADmulti/dataloader.py:178: RuntimeWarning: Mean of empty slice\n",
      "  self._feature_means = np.nanmean(all_tabular, axis=0)\n",
      "/Users/lolakovalski/Desktop/lola/code/ADmulti/dataloader.py:178: RuntimeWarning: Mean of empty slice\n",
      "  self._feature_means = np.nanmean(all_tabular, axis=0)\n",
      "/Users/lolakovalski/Desktop/lola/code/ADmulti/dataloader.py:178: RuntimeWarning: Mean of empty slice\n",
      "  self._feature_means = np.nanmean(all_tabular, axis=0)\n",
      "/Users/lolakovalski/Desktop/lola/code/ADmulti/dataloader.py:178: RuntimeWarning: Mean of empty slice\n",
      "  self._feature_means = np.nanmean(all_tabular, axis=0)\n",
      "/Users/lolakovalski/Desktop/lola/code/ADmulti/dataloader.py:178: RuntimeWarning: Mean of empty slice\n",
      "  self._feature_means = np.nanmean(all_tabular, axis=0)\n",
      "/Users/lolakovalski/Desktop/lola/code/ADmulti/dataloader.py:178: RuntimeWarning: Mean of empty slice\n",
      "  self._feature_means = np.nanmean(all_tabular, axis=0)\n",
      "/Users/lolakovalski/Desktop/lola/code/ADmulti/dataloader.py:178: RuntimeWarning: Mean of empty slice\n",
      "  self._feature_means = np.nanmean(all_tabular, axis=0)\n",
      "/Users/lolakovalski/Desktop/lola/code/ADmulti/dataloader.py:178: RuntimeWarning: Mean of empty slice\n",
      "  self._feature_means = np.nanmean(all_tabular, axis=0)\n"
     ]
    },
    {
     "name": "stdout",
     "output_type": "stream",
     "text": [
      "Training fusion MLP...\n",
      "Epoch 1: Loss=0.6170, Val Acc=0.774\n",
      "Epoch 2: Loss=0.5558, Val Acc=0.774\n",
      "Epoch 3: Loss=0.4995, Val Acc=0.774\n",
      "Epoch 4: Loss=0.4463, Val Acc=0.774\n",
      "Epoch 5: Loss=0.4048, Val Acc=0.774\n",
      "Epoch 6: Loss=0.3670, Val Acc=0.792\n",
      "Epoch 7: Loss=0.3302, Val Acc=0.830\n",
      "Epoch 8: Loss=0.3173, Val Acc=0.811\n",
      "Epoch 9: Loss=0.3176, Val Acc=0.792\n",
      "Epoch 10: Loss=0.3105, Val Acc=0.792\n",
      "Epoch 11: Loss=0.2888, Val Acc=0.792\n",
      "Epoch 12: Loss=0.2882, Val Acc=0.792\n",
      "Early stopping for fusion MLP.\n"
     ]
    },
    {
     "name": "stderr",
     "output_type": "stream",
     "text": [
      "/Users/lolakovalski/Desktop/lola/code/ADmulti/dataloader.py:178: RuntimeWarning: Mean of empty slice\n",
      "  self._feature_means = np.nanmean(all_tabular, axis=0)\n",
      "/Users/lolakovalski/Desktop/lola/code/ADmulti/dataloader.py:178: RuntimeWarning: Mean of empty slice\n",
      "  self._feature_means = np.nanmean(all_tabular, axis=0)\n"
     ]
    },
    {
     "name": "stdout",
     "output_type": "stream",
     "text": [
      "Fusion Model - Accuracy: 0.792, F1: 0.560, Precision: 0.538, Recall: 0.583\n",
      "\n",
      ">> Training with params: {'mlp_hidden_dims': (64, 32), 'dropout': 0.3, 'lr': 0.0005, 'epochs': 20, 'patience': 5}\n",
      "Using pre-trained tabular (RF) baseline...\n",
      "Using pre-trained MRI (CNN) baseline...\n",
      "Extracting features for fusion...\n"
     ]
    },
    {
     "name": "stderr",
     "output_type": "stream",
     "text": [
      "/Users/lolakovalski/Desktop/lola/code/ADmulti/dataloader.py:178: RuntimeWarning: Mean of empty slice\n",
      "  self._feature_means = np.nanmean(all_tabular, axis=0)\n",
      "/Users/lolakovalski/Desktop/lola/code/ADmulti/dataloader.py:178: RuntimeWarning: Mean of empty slice\n",
      "  self._feature_means = np.nanmean(all_tabular, axis=0)\n",
      "/Users/lolakovalski/Desktop/lola/code/ADmulti/dataloader.py:178: RuntimeWarning: Mean of empty slice\n",
      "  self._feature_means = np.nanmean(all_tabular, axis=0)\n",
      "/Users/lolakovalski/Desktop/lola/code/ADmulti/dataloader.py:178: RuntimeWarning: Mean of empty slice\n",
      "  self._feature_means = np.nanmean(all_tabular, axis=0)\n",
      "/Users/lolakovalski/Desktop/lola/code/ADmulti/dataloader.py:178: RuntimeWarning: Mean of empty slice\n",
      "  self._feature_means = np.nanmean(all_tabular, axis=0)\n",
      "/Users/lolakovalski/Desktop/lola/code/ADmulti/dataloader.py:178: RuntimeWarning: Mean of empty slice\n",
      "  self._feature_means = np.nanmean(all_tabular, axis=0)\n",
      "/Users/lolakovalski/Desktop/lola/code/ADmulti/dataloader.py:178: RuntimeWarning: Mean of empty slice\n",
      "  self._feature_means = np.nanmean(all_tabular, axis=0)\n",
      "/Users/lolakovalski/Desktop/lola/code/ADmulti/dataloader.py:178: RuntimeWarning: Mean of empty slice\n",
      "  self._feature_means = np.nanmean(all_tabular, axis=0)\n"
     ]
    },
    {
     "name": "stdout",
     "output_type": "stream",
     "text": [
      "Training fusion MLP...\n",
      "Epoch 1: Loss=0.6518, Val Acc=0.774\n",
      "Epoch 2: Loss=0.6013, Val Acc=0.774\n",
      "Epoch 3: Loss=0.5671, Val Acc=0.792\n",
      "Epoch 4: Loss=0.5389, Val Acc=0.774\n",
      "Epoch 5: Loss=0.4984, Val Acc=0.774\n",
      "Epoch 6: Loss=0.4743, Val Acc=0.811\n",
      "Epoch 7: Loss=0.4323, Val Acc=0.811\n",
      "Epoch 8: Loss=0.3999, Val Acc=0.830\n",
      "Epoch 9: Loss=0.3900, Val Acc=0.830\n",
      "Epoch 10: Loss=0.3712, Val Acc=0.830\n",
      "Epoch 11: Loss=0.3706, Val Acc=0.811\n",
      "Epoch 12: Loss=0.3455, Val Acc=0.811\n",
      "Epoch 13: Loss=0.3333, Val Acc=0.811\n",
      "Early stopping for fusion MLP.\n"
     ]
    },
    {
     "name": "stderr",
     "output_type": "stream",
     "text": [
      "/Users/lolakovalski/Desktop/lola/code/ADmulti/dataloader.py:178: RuntimeWarning: Mean of empty slice\n",
      "  self._feature_means = np.nanmean(all_tabular, axis=0)\n",
      "/Users/lolakovalski/Desktop/lola/code/ADmulti/dataloader.py:178: RuntimeWarning: Mean of empty slice\n",
      "  self._feature_means = np.nanmean(all_tabular, axis=0)\n"
     ]
    },
    {
     "name": "stdout",
     "output_type": "stream",
     "text": [
      "Fusion Model - Accuracy: 0.811, F1: 0.583, Precision: 0.583, Recall: 0.583\n",
      "\n",
      ">> Training with params: {'mlp_hidden_dims': (64, 32), 'dropout': 0.5, 'lr': 0.001, 'epochs': 20, 'patience': 5}\n",
      "Using pre-trained tabular (RF) baseline...\n",
      "Using pre-trained MRI (CNN) baseline...\n",
      "Extracting features for fusion...\n"
     ]
    },
    {
     "name": "stderr",
     "output_type": "stream",
     "text": [
      "/Users/lolakovalski/Desktop/lola/code/ADmulti/dataloader.py:178: RuntimeWarning: Mean of empty slice\n",
      "  self._feature_means = np.nanmean(all_tabular, axis=0)\n",
      "/Users/lolakovalski/Desktop/lola/code/ADmulti/dataloader.py:178: RuntimeWarning: Mean of empty slice\n",
      "  self._feature_means = np.nanmean(all_tabular, axis=0)\n",
      "/Users/lolakovalski/Desktop/lola/code/ADmulti/dataloader.py:178: RuntimeWarning: Mean of empty slice\n",
      "  self._feature_means = np.nanmean(all_tabular, axis=0)\n",
      "/Users/lolakovalski/Desktop/lola/code/ADmulti/dataloader.py:178: RuntimeWarning: Mean of empty slice\n",
      "  self._feature_means = np.nanmean(all_tabular, axis=0)\n",
      "/Users/lolakovalski/Desktop/lola/code/ADmulti/dataloader.py:178: RuntimeWarning: Mean of empty slice\n",
      "  self._feature_means = np.nanmean(all_tabular, axis=0)\n",
      "/Users/lolakovalski/Desktop/lola/code/ADmulti/dataloader.py:178: RuntimeWarning: Mean of empty slice\n",
      "  self._feature_means = np.nanmean(all_tabular, axis=0)\n",
      "/Users/lolakovalski/Desktop/lola/code/ADmulti/dataloader.py:178: RuntimeWarning: Mean of empty slice\n",
      "  self._feature_means = np.nanmean(all_tabular, axis=0)\n",
      "/Users/lolakovalski/Desktop/lola/code/ADmulti/dataloader.py:178: RuntimeWarning: Mean of empty slice\n",
      "  self._feature_means = np.nanmean(all_tabular, axis=0)\n"
     ]
    },
    {
     "name": "stdout",
     "output_type": "stream",
     "text": [
      "Training fusion MLP...\n",
      "Epoch 1: Loss=0.7667, Val Acc=0.774\n",
      "Epoch 2: Loss=0.6367, Val Acc=0.774\n",
      "Epoch 3: Loss=0.5392, Val Acc=0.774\n",
      "Epoch 4: Loss=0.4699, Val Acc=0.774\n",
      "Epoch 5: Loss=0.4279, Val Acc=0.830\n",
      "Epoch 6: Loss=0.3854, Val Acc=0.792\n",
      "Epoch 7: Loss=0.3605, Val Acc=0.774\n",
      "Epoch 8: Loss=0.3571, Val Acc=0.811\n",
      "Epoch 9: Loss=0.3366, Val Acc=0.811\n",
      "Epoch 10: Loss=0.3367, Val Acc=0.792\n",
      "Early stopping for fusion MLP.\n"
     ]
    },
    {
     "name": "stderr",
     "output_type": "stream",
     "text": [
      "/Users/lolakovalski/Desktop/lola/code/ADmulti/dataloader.py:178: RuntimeWarning: Mean of empty slice\n",
      "  self._feature_means = np.nanmean(all_tabular, axis=0)\n",
      "/Users/lolakovalski/Desktop/lola/code/ADmulti/dataloader.py:178: RuntimeWarning: Mean of empty slice\n",
      "  self._feature_means = np.nanmean(all_tabular, axis=0)\n"
     ]
    },
    {
     "name": "stdout",
     "output_type": "stream",
     "text": [
      "Fusion Model - Accuracy: 0.792, F1: 0.560, Precision: 0.538, Recall: 0.583\n",
      "\n",
      ">> Training with params: {'mlp_hidden_dims': (64, 32), 'dropout': 0.5, 'lr': 0.0005, 'epochs': 20, 'patience': 5}\n",
      "Using pre-trained tabular (RF) baseline...\n",
      "Using pre-trained MRI (CNN) baseline...\n",
      "Extracting features for fusion...\n"
     ]
    },
    {
     "name": "stderr",
     "output_type": "stream",
     "text": [
      "/Users/lolakovalski/Desktop/lola/code/ADmulti/dataloader.py:178: RuntimeWarning: Mean of empty slice\n",
      "  self._feature_means = np.nanmean(all_tabular, axis=0)\n",
      "/Users/lolakovalski/Desktop/lola/code/ADmulti/dataloader.py:178: RuntimeWarning: Mean of empty slice\n",
      "  self._feature_means = np.nanmean(all_tabular, axis=0)\n",
      "/Users/lolakovalski/Desktop/lola/code/ADmulti/dataloader.py:178: RuntimeWarning: Mean of empty slice\n",
      "  self._feature_means = np.nanmean(all_tabular, axis=0)\n",
      "/Users/lolakovalski/Desktop/lola/code/ADmulti/dataloader.py:178: RuntimeWarning: Mean of empty slice\n",
      "  self._feature_means = np.nanmean(all_tabular, axis=0)\n",
      "/Users/lolakovalski/Desktop/lola/code/ADmulti/dataloader.py:178: RuntimeWarning: Mean of empty slice\n",
      "  self._feature_means = np.nanmean(all_tabular, axis=0)\n",
      "/Users/lolakovalski/Desktop/lola/code/ADmulti/dataloader.py:178: RuntimeWarning: Mean of empty slice\n",
      "  self._feature_means = np.nanmean(all_tabular, axis=0)\n",
      "/Users/lolakovalski/Desktop/lola/code/ADmulti/dataloader.py:178: RuntimeWarning: Mean of empty slice\n",
      "  self._feature_means = np.nanmean(all_tabular, axis=0)\n",
      "/Users/lolakovalski/Desktop/lola/code/ADmulti/dataloader.py:178: RuntimeWarning: Mean of empty slice\n",
      "  self._feature_means = np.nanmean(all_tabular, axis=0)\n"
     ]
    },
    {
     "name": "stdout",
     "output_type": "stream",
     "text": [
      "Training fusion MLP...\n",
      "Epoch 1: Loss=0.7144, Val Acc=0.792\n",
      "Epoch 2: Loss=0.6510, Val Acc=0.774\n",
      "Epoch 3: Loss=0.6037, Val Acc=0.774\n",
      "Epoch 4: Loss=0.5738, Val Acc=0.774\n",
      "Epoch 5: Loss=0.5303, Val Acc=0.774\n",
      "Epoch 6: Loss=0.4980, Val Acc=0.792\n",
      "Early stopping for fusion MLP.\n"
     ]
    },
    {
     "name": "stderr",
     "output_type": "stream",
     "text": [
      "/Users/lolakovalski/Desktop/lola/code/ADmulti/dataloader.py:178: RuntimeWarning: Mean of empty slice\n",
      "  self._feature_means = np.nanmean(all_tabular, axis=0)\n",
      "/Users/lolakovalski/Desktop/lola/code/ADmulti/dataloader.py:178: RuntimeWarning: Mean of empty slice\n",
      "  self._feature_means = np.nanmean(all_tabular, axis=0)\n"
     ]
    },
    {
     "name": "stdout",
     "output_type": "stream",
     "text": [
      "Fusion Model - Accuracy: 0.792, F1: 0.154, Precision: 1.000, Recall: 0.083\n",
      "\n",
      ">> Training with params: {'mlp_hidden_dims': (128, 64), 'dropout': 0.3, 'lr': 0.001, 'epochs': 20, 'patience': 5}\n",
      "Using pre-trained tabular (RF) baseline...\n",
      "Using pre-trained MRI (CNN) baseline...\n",
      "Extracting features for fusion...\n"
     ]
    },
    {
     "name": "stderr",
     "output_type": "stream",
     "text": [
      "/Users/lolakovalski/Desktop/lola/code/ADmulti/dataloader.py:178: RuntimeWarning: Mean of empty slice\n",
      "  self._feature_means = np.nanmean(all_tabular, axis=0)\n",
      "/Users/lolakovalski/Desktop/lola/code/ADmulti/dataloader.py:178: RuntimeWarning: Mean of empty slice\n",
      "  self._feature_means = np.nanmean(all_tabular, axis=0)\n",
      "/Users/lolakovalski/Desktop/lola/code/ADmulti/dataloader.py:178: RuntimeWarning: Mean of empty slice\n",
      "  self._feature_means = np.nanmean(all_tabular, axis=0)\n",
      "/Users/lolakovalski/Desktop/lola/code/ADmulti/dataloader.py:178: RuntimeWarning: Mean of empty slice\n",
      "  self._feature_means = np.nanmean(all_tabular, axis=0)\n",
      "/Users/lolakovalski/Desktop/lola/code/ADmulti/dataloader.py:178: RuntimeWarning: Mean of empty slice\n",
      "  self._feature_means = np.nanmean(all_tabular, axis=0)\n",
      "/Users/lolakovalski/Desktop/lola/code/ADmulti/dataloader.py:178: RuntimeWarning: Mean of empty slice\n",
      "  self._feature_means = np.nanmean(all_tabular, axis=0)\n",
      "/Users/lolakovalski/Desktop/lola/code/ADmulti/dataloader.py:178: RuntimeWarning: Mean of empty slice\n",
      "  self._feature_means = np.nanmean(all_tabular, axis=0)\n",
      "/Users/lolakovalski/Desktop/lola/code/ADmulti/dataloader.py:178: RuntimeWarning: Mean of empty slice\n",
      "  self._feature_means = np.nanmean(all_tabular, axis=0)\n"
     ]
    },
    {
     "name": "stdout",
     "output_type": "stream",
     "text": [
      "Training fusion MLP...\n",
      "Epoch 1: Loss=0.6976, Val Acc=0.774\n",
      "Epoch 2: Loss=0.6037, Val Acc=0.774\n",
      "Epoch 3: Loss=0.5186, Val Acc=0.811\n",
      "Epoch 4: Loss=0.4322, Val Acc=0.792\n",
      "Epoch 5: Loss=0.3800, Val Acc=0.774\n",
      "Epoch 6: Loss=0.3423, Val Acc=0.830\n",
      "Epoch 7: Loss=0.3149, Val Acc=0.792\n",
      "Epoch 8: Loss=0.2989, Val Acc=0.792\n",
      "Epoch 9: Loss=0.2984, Val Acc=0.792\n",
      "Epoch 10: Loss=0.2778, Val Acc=0.792\n",
      "Epoch 11: Loss=0.2714, Val Acc=0.792\n",
      "Early stopping for fusion MLP.\n"
     ]
    },
    {
     "name": "stderr",
     "output_type": "stream",
     "text": [
      "/Users/lolakovalski/Desktop/lola/code/ADmulti/dataloader.py:178: RuntimeWarning: Mean of empty slice\n",
      "  self._feature_means = np.nanmean(all_tabular, axis=0)\n",
      "/Users/lolakovalski/Desktop/lola/code/ADmulti/dataloader.py:178: RuntimeWarning: Mean of empty slice\n",
      "  self._feature_means = np.nanmean(all_tabular, axis=0)\n"
     ]
    },
    {
     "name": "stdout",
     "output_type": "stream",
     "text": [
      "Fusion Model - Accuracy: 0.792, F1: 0.560, Precision: 0.538, Recall: 0.583\n",
      "\n",
      ">> Training with params: {'mlp_hidden_dims': (128, 64), 'dropout': 0.3, 'lr': 0.0005, 'epochs': 20, 'patience': 5}\n",
      "Using pre-trained tabular (RF) baseline...\n",
      "Using pre-trained MRI (CNN) baseline...\n",
      "Extracting features for fusion...\n"
     ]
    },
    {
     "name": "stderr",
     "output_type": "stream",
     "text": [
      "/Users/lolakovalski/Desktop/lola/code/ADmulti/dataloader.py:178: RuntimeWarning: Mean of empty slice\n",
      "  self._feature_means = np.nanmean(all_tabular, axis=0)\n",
      "/Users/lolakovalski/Desktop/lola/code/ADmulti/dataloader.py:178: RuntimeWarning: Mean of empty slice\n",
      "  self._feature_means = np.nanmean(all_tabular, axis=0)\n",
      "/Users/lolakovalski/Desktop/lola/code/ADmulti/dataloader.py:178: RuntimeWarning: Mean of empty slice\n",
      "  self._feature_means = np.nanmean(all_tabular, axis=0)\n",
      "/Users/lolakovalski/Desktop/lola/code/ADmulti/dataloader.py:178: RuntimeWarning: Mean of empty slice\n",
      "  self._feature_means = np.nanmean(all_tabular, axis=0)\n",
      "/Users/lolakovalski/Desktop/lola/code/ADmulti/dataloader.py:178: RuntimeWarning: Mean of empty slice\n",
      "  self._feature_means = np.nanmean(all_tabular, axis=0)\n",
      "/Users/lolakovalski/Desktop/lola/code/ADmulti/dataloader.py:178: RuntimeWarning: Mean of empty slice\n",
      "  self._feature_means = np.nanmean(all_tabular, axis=0)\n",
      "/Users/lolakovalski/Desktop/lola/code/ADmulti/dataloader.py:178: RuntimeWarning: Mean of empty slice\n",
      "  self._feature_means = np.nanmean(all_tabular, axis=0)\n",
      "/Users/lolakovalski/Desktop/lola/code/ADmulti/dataloader.py:178: RuntimeWarning: Mean of empty slice\n",
      "  self._feature_means = np.nanmean(all_tabular, axis=0)\n"
     ]
    },
    {
     "name": "stdout",
     "output_type": "stream",
     "text": [
      "Training fusion MLP...\n",
      "Epoch 1: Loss=0.7208, Val Acc=0.811\n",
      "Epoch 2: Loss=0.6563, Val Acc=0.774\n",
      "Epoch 3: Loss=0.5954, Val Acc=0.774\n",
      "Epoch 4: Loss=0.5483, Val Acc=0.792\n",
      "Epoch 5: Loss=0.4993, Val Acc=0.830\n",
      "Epoch 6: Loss=0.4509, Val Acc=0.811\n",
      "Epoch 7: Loss=0.4108, Val Acc=0.811\n",
      "Epoch 8: Loss=0.3794, Val Acc=0.774\n",
      "Epoch 9: Loss=0.3426, Val Acc=0.830\n",
      "Epoch 10: Loss=0.3229, Val Acc=0.811\n",
      "Early stopping for fusion MLP.\n"
     ]
    },
    {
     "name": "stderr",
     "output_type": "stream",
     "text": [
      "/Users/lolakovalski/Desktop/lola/code/ADmulti/dataloader.py:178: RuntimeWarning: Mean of empty slice\n",
      "  self._feature_means = np.nanmean(all_tabular, axis=0)\n",
      "/Users/lolakovalski/Desktop/lola/code/ADmulti/dataloader.py:178: RuntimeWarning: Mean of empty slice\n",
      "  self._feature_means = np.nanmean(all_tabular, axis=0)\n"
     ]
    },
    {
     "name": "stdout",
     "output_type": "stream",
     "text": [
      "Fusion Model - Accuracy: 0.811, F1: 0.583, Precision: 0.583, Recall: 0.583\n",
      "\n",
      ">> Training with params: {'mlp_hidden_dims': (128, 64), 'dropout': 0.5, 'lr': 0.001, 'epochs': 20, 'patience': 5}\n",
      "Using pre-trained tabular (RF) baseline...\n",
      "Using pre-trained MRI (CNN) baseline...\n",
      "Extracting features for fusion...\n"
     ]
    },
    {
     "name": "stderr",
     "output_type": "stream",
     "text": [
      "/Users/lolakovalski/Desktop/lola/code/ADmulti/dataloader.py:178: RuntimeWarning: Mean of empty slice\n",
      "  self._feature_means = np.nanmean(all_tabular, axis=0)\n",
      "/Users/lolakovalski/Desktop/lola/code/ADmulti/dataloader.py:178: RuntimeWarning: Mean of empty slice\n",
      "  self._feature_means = np.nanmean(all_tabular, axis=0)\n",
      "/Users/lolakovalski/Desktop/lola/code/ADmulti/dataloader.py:178: RuntimeWarning: Mean of empty slice\n",
      "  self._feature_means = np.nanmean(all_tabular, axis=0)\n",
      "/Users/lolakovalski/Desktop/lola/code/ADmulti/dataloader.py:178: RuntimeWarning: Mean of empty slice\n",
      "  self._feature_means = np.nanmean(all_tabular, axis=0)\n",
      "/Users/lolakovalski/Desktop/lola/code/ADmulti/dataloader.py:178: RuntimeWarning: Mean of empty slice\n",
      "  self._feature_means = np.nanmean(all_tabular, axis=0)\n",
      "/Users/lolakovalski/Desktop/lola/code/ADmulti/dataloader.py:178: RuntimeWarning: Mean of empty slice\n",
      "  self._feature_means = np.nanmean(all_tabular, axis=0)\n",
      "/Users/lolakovalski/Desktop/lola/code/ADmulti/dataloader.py:178: RuntimeWarning: Mean of empty slice\n",
      "  self._feature_means = np.nanmean(all_tabular, axis=0)\n",
      "/Users/lolakovalski/Desktop/lola/code/ADmulti/dataloader.py:178: RuntimeWarning: Mean of empty slice\n",
      "  self._feature_means = np.nanmean(all_tabular, axis=0)\n"
     ]
    },
    {
     "name": "stdout",
     "output_type": "stream",
     "text": [
      "Training fusion MLP...\n",
      "Epoch 1: Loss=0.7216, Val Acc=0.774\n",
      "Epoch 2: Loss=0.6291, Val Acc=0.774\n",
      "Epoch 3: Loss=0.5157, Val Acc=0.774\n",
      "Epoch 4: Loss=0.4618, Val Acc=0.792\n",
      "Epoch 5: Loss=0.4300, Val Acc=0.811\n",
      "Epoch 6: Loss=0.3810, Val Acc=0.774\n",
      "Epoch 7: Loss=0.3527, Val Acc=0.811\n",
      "Epoch 8: Loss=0.3451, Val Acc=0.811\n",
      "Epoch 9: Loss=0.2967, Val Acc=0.792\n",
      "Epoch 10: Loss=0.2972, Val Acc=0.792\n",
      "Early stopping for fusion MLP.\n"
     ]
    },
    {
     "name": "stderr",
     "output_type": "stream",
     "text": [
      "/Users/lolakovalski/Desktop/lola/code/ADmulti/dataloader.py:178: RuntimeWarning: Mean of empty slice\n",
      "  self._feature_means = np.nanmean(all_tabular, axis=0)\n",
      "/Users/lolakovalski/Desktop/lola/code/ADmulti/dataloader.py:178: RuntimeWarning: Mean of empty slice\n",
      "  self._feature_means = np.nanmean(all_tabular, axis=0)\n"
     ]
    },
    {
     "name": "stdout",
     "output_type": "stream",
     "text": [
      "Fusion Model - Accuracy: 0.792, F1: 0.560, Precision: 0.538, Recall: 0.583\n",
      "\n",
      ">> Training with params: {'mlp_hidden_dims': (128, 64), 'dropout': 0.5, 'lr': 0.0005, 'epochs': 20, 'patience': 5}\n",
      "Using pre-trained tabular (RF) baseline...\n",
      "Using pre-trained MRI (CNN) baseline...\n",
      "Extracting features for fusion...\n"
     ]
    },
    {
     "name": "stderr",
     "output_type": "stream",
     "text": [
      "/Users/lolakovalski/Desktop/lola/code/ADmulti/dataloader.py:178: RuntimeWarning: Mean of empty slice\n",
      "  self._feature_means = np.nanmean(all_tabular, axis=0)\n",
      "/Users/lolakovalski/Desktop/lola/code/ADmulti/dataloader.py:178: RuntimeWarning: Mean of empty slice\n",
      "  self._feature_means = np.nanmean(all_tabular, axis=0)\n",
      "/Users/lolakovalski/Desktop/lola/code/ADmulti/dataloader.py:178: RuntimeWarning: Mean of empty slice\n",
      "  self._feature_means = np.nanmean(all_tabular, axis=0)\n",
      "/Users/lolakovalski/Desktop/lola/code/ADmulti/dataloader.py:178: RuntimeWarning: Mean of empty slice\n",
      "  self._feature_means = np.nanmean(all_tabular, axis=0)\n",
      "/Users/lolakovalski/Desktop/lola/code/ADmulti/dataloader.py:178: RuntimeWarning: Mean of empty slice\n",
      "  self._feature_means = np.nanmean(all_tabular, axis=0)\n",
      "/Users/lolakovalski/Desktop/lola/code/ADmulti/dataloader.py:178: RuntimeWarning: Mean of empty slice\n",
      "  self._feature_means = np.nanmean(all_tabular, axis=0)\n",
      "/Users/lolakovalski/Desktop/lola/code/ADmulti/dataloader.py:178: RuntimeWarning: Mean of empty slice\n",
      "  self._feature_means = np.nanmean(all_tabular, axis=0)\n",
      "/Users/lolakovalski/Desktop/lola/code/ADmulti/dataloader.py:178: RuntimeWarning: Mean of empty slice\n",
      "  self._feature_means = np.nanmean(all_tabular, axis=0)\n"
     ]
    },
    {
     "name": "stdout",
     "output_type": "stream",
     "text": [
      "Training fusion MLP...\n",
      "Epoch 1: Loss=0.7354, Val Acc=0.811\n",
      "Epoch 2: Loss=0.6699, Val Acc=0.830\n",
      "Epoch 3: Loss=0.6198, Val Acc=0.830\n",
      "Epoch 4: Loss=0.5401, Val Acc=0.830\n",
      "Epoch 5: Loss=0.5162, Val Acc=0.830\n",
      "Epoch 6: Loss=0.4441, Val Acc=0.811\n",
      "Epoch 7: Loss=0.4239, Val Acc=0.792\n",
      "Early stopping for fusion MLP.\n"
     ]
    },
    {
     "name": "stderr",
     "output_type": "stream",
     "text": [
      "/Users/lolakovalski/Desktop/lola/code/ADmulti/dataloader.py:178: RuntimeWarning: Mean of empty slice\n",
      "  self._feature_means = np.nanmean(all_tabular, axis=0)\n",
      "/Users/lolakovalski/Desktop/lola/code/ADmulti/dataloader.py:178: RuntimeWarning: Mean of empty slice\n",
      "  self._feature_means = np.nanmean(all_tabular, axis=0)\n"
     ]
    },
    {
     "name": "stdout",
     "output_type": "stream",
     "text": [
      "Fusion Model - Accuracy: 0.792, F1: 0.353, Precision: 0.600, Recall: 0.250\n",
      "\n",
      ">> Training with params: {'mlp_hidden_dims': (256, 128), 'dropout': 0.3, 'lr': 0.001, 'epochs': 20, 'patience': 5}\n",
      "Using pre-trained tabular (RF) baseline...\n",
      "Using pre-trained MRI (CNN) baseline...\n",
      "Extracting features for fusion...\n"
     ]
    },
    {
     "name": "stderr",
     "output_type": "stream",
     "text": [
      "/Users/lolakovalski/Desktop/lola/code/ADmulti/dataloader.py:178: RuntimeWarning: Mean of empty slice\n",
      "  self._feature_means = np.nanmean(all_tabular, axis=0)\n",
      "/Users/lolakovalski/Desktop/lola/code/ADmulti/dataloader.py:178: RuntimeWarning: Mean of empty slice\n",
      "  self._feature_means = np.nanmean(all_tabular, axis=0)\n",
      "/Users/lolakovalski/Desktop/lola/code/ADmulti/dataloader.py:178: RuntimeWarning: Mean of empty slice\n",
      "  self._feature_means = np.nanmean(all_tabular, axis=0)\n",
      "/Users/lolakovalski/Desktop/lola/code/ADmulti/dataloader.py:178: RuntimeWarning: Mean of empty slice\n",
      "  self._feature_means = np.nanmean(all_tabular, axis=0)\n",
      "/Users/lolakovalski/Desktop/lola/code/ADmulti/dataloader.py:178: RuntimeWarning: Mean of empty slice\n",
      "  self._feature_means = np.nanmean(all_tabular, axis=0)\n",
      "/Users/lolakovalski/Desktop/lola/code/ADmulti/dataloader.py:178: RuntimeWarning: Mean of empty slice\n",
      "  self._feature_means = np.nanmean(all_tabular, axis=0)\n",
      "/Users/lolakovalski/Desktop/lola/code/ADmulti/dataloader.py:178: RuntimeWarning: Mean of empty slice\n",
      "  self._feature_means = np.nanmean(all_tabular, axis=0)\n",
      "/Users/lolakovalski/Desktop/lola/code/ADmulti/dataloader.py:178: RuntimeWarning: Mean of empty slice\n",
      "  self._feature_means = np.nanmean(all_tabular, axis=0)\n"
     ]
    },
    {
     "name": "stdout",
     "output_type": "stream",
     "text": [
      "Training fusion MLP...\n",
      "Epoch 1: Loss=0.6964, Val Acc=0.774\n",
      "Epoch 2: Loss=0.5298, Val Acc=0.774\n",
      "Epoch 3: Loss=0.4057, Val Acc=0.792\n",
      "Epoch 4: Loss=0.3376, Val Acc=0.830\n",
      "Epoch 5: Loss=0.3012, Val Acc=0.792\n",
      "Epoch 6: Loss=0.2802, Val Acc=0.774\n",
      "Epoch 7: Loss=0.2682, Val Acc=0.774\n",
      "Epoch 8: Loss=0.2745, Val Acc=0.792\n",
      "Epoch 9: Loss=0.2706, Val Acc=0.792\n",
      "Early stopping for fusion MLP.\n"
     ]
    },
    {
     "name": "stderr",
     "output_type": "stream",
     "text": [
      "/Users/lolakovalski/Desktop/lola/code/ADmulti/dataloader.py:178: RuntimeWarning: Mean of empty slice\n",
      "  self._feature_means = np.nanmean(all_tabular, axis=0)\n",
      "/Users/lolakovalski/Desktop/lola/code/ADmulti/dataloader.py:178: RuntimeWarning: Mean of empty slice\n",
      "  self._feature_means = np.nanmean(all_tabular, axis=0)\n"
     ]
    },
    {
     "name": "stdout",
     "output_type": "stream",
     "text": [
      "Fusion Model - Accuracy: 0.792, F1: 0.560, Precision: 0.538, Recall: 0.583\n",
      "\n",
      ">> Training with params: {'mlp_hidden_dims': (256, 128), 'dropout': 0.3, 'lr': 0.0005, 'epochs': 20, 'patience': 5}\n",
      "Using pre-trained tabular (RF) baseline...\n",
      "Using pre-trained MRI (CNN) baseline...\n",
      "Extracting features for fusion...\n"
     ]
    },
    {
     "name": "stderr",
     "output_type": "stream",
     "text": [
      "/Users/lolakovalski/Desktop/lola/code/ADmulti/dataloader.py:178: RuntimeWarning: Mean of empty slice\n",
      "  self._feature_means = np.nanmean(all_tabular, axis=0)\n",
      "/Users/lolakovalski/Desktop/lola/code/ADmulti/dataloader.py:178: RuntimeWarning: Mean of empty slice\n",
      "  self._feature_means = np.nanmean(all_tabular, axis=0)\n",
      "/Users/lolakovalski/Desktop/lola/code/ADmulti/dataloader.py:178: RuntimeWarning: Mean of empty slice\n",
      "  self._feature_means = np.nanmean(all_tabular, axis=0)\n",
      "/Users/lolakovalski/Desktop/lola/code/ADmulti/dataloader.py:178: RuntimeWarning: Mean of empty slice\n",
      "  self._feature_means = np.nanmean(all_tabular, axis=0)\n",
      "/Users/lolakovalski/Desktop/lola/code/ADmulti/dataloader.py:178: RuntimeWarning: Mean of empty slice\n",
      "  self._feature_means = np.nanmean(all_tabular, axis=0)\n",
      "/Users/lolakovalski/Desktop/lola/code/ADmulti/dataloader.py:178: RuntimeWarning: Mean of empty slice\n",
      "  self._feature_means = np.nanmean(all_tabular, axis=0)\n",
      "/Users/lolakovalski/Desktop/lola/code/ADmulti/dataloader.py:178: RuntimeWarning: Mean of empty slice\n",
      "  self._feature_means = np.nanmean(all_tabular, axis=0)\n",
      "/Users/lolakovalski/Desktop/lola/code/ADmulti/dataloader.py:178: RuntimeWarning: Mean of empty slice\n",
      "  self._feature_means = np.nanmean(all_tabular, axis=0)\n"
     ]
    },
    {
     "name": "stdout",
     "output_type": "stream",
     "text": [
      "Training fusion MLP...\n",
      "Epoch 1: Loss=0.7178, Val Acc=0.774\n",
      "Epoch 2: Loss=0.6071, Val Acc=0.774\n",
      "Epoch 3: Loss=0.5147, Val Acc=0.774\n",
      "Epoch 4: Loss=0.4317, Val Acc=0.830\n",
      "Epoch 5: Loss=0.3729, Val Acc=0.792\n",
      "Epoch 6: Loss=0.3410, Val Acc=0.830\n",
      "Epoch 7: Loss=0.3026, Val Acc=0.792\n",
      "Epoch 8: Loss=0.2832, Val Acc=0.792\n",
      "Epoch 9: Loss=0.2660, Val Acc=0.792\n",
      "Early stopping for fusion MLP.\n"
     ]
    },
    {
     "name": "stderr",
     "output_type": "stream",
     "text": [
      "/Users/lolakovalski/Desktop/lola/code/ADmulti/dataloader.py:178: RuntimeWarning: Mean of empty slice\n",
      "  self._feature_means = np.nanmean(all_tabular, axis=0)\n",
      "/Users/lolakovalski/Desktop/lola/code/ADmulti/dataloader.py:178: RuntimeWarning: Mean of empty slice\n",
      "  self._feature_means = np.nanmean(all_tabular, axis=0)\n"
     ]
    },
    {
     "name": "stdout",
     "output_type": "stream",
     "text": [
      "Fusion Model - Accuracy: 0.792, F1: 0.560, Precision: 0.538, Recall: 0.583\n",
      "\n",
      ">> Training with params: {'mlp_hidden_dims': (256, 128), 'dropout': 0.5, 'lr': 0.001, 'epochs': 20, 'patience': 5}\n",
      "Using pre-trained tabular (RF) baseline...\n",
      "Using pre-trained MRI (CNN) baseline...\n",
      "Extracting features for fusion...\n"
     ]
    },
    {
     "name": "stderr",
     "output_type": "stream",
     "text": [
      "/Users/lolakovalski/Desktop/lola/code/ADmulti/dataloader.py:178: RuntimeWarning: Mean of empty slice\n",
      "  self._feature_means = np.nanmean(all_tabular, axis=0)\n",
      "/Users/lolakovalski/Desktop/lola/code/ADmulti/dataloader.py:178: RuntimeWarning: Mean of empty slice\n",
      "  self._feature_means = np.nanmean(all_tabular, axis=0)\n",
      "/Users/lolakovalski/Desktop/lola/code/ADmulti/dataloader.py:178: RuntimeWarning: Mean of empty slice\n",
      "  self._feature_means = np.nanmean(all_tabular, axis=0)\n",
      "/Users/lolakovalski/Desktop/lola/code/ADmulti/dataloader.py:178: RuntimeWarning: Mean of empty slice\n",
      "  self._feature_means = np.nanmean(all_tabular, axis=0)\n",
      "/Users/lolakovalski/Desktop/lola/code/ADmulti/dataloader.py:178: RuntimeWarning: Mean of empty slice\n",
      "  self._feature_means = np.nanmean(all_tabular, axis=0)\n",
      "/Users/lolakovalski/Desktop/lola/code/ADmulti/dataloader.py:178: RuntimeWarning: Mean of empty slice\n",
      "  self._feature_means = np.nanmean(all_tabular, axis=0)\n",
      "/Users/lolakovalski/Desktop/lola/code/ADmulti/dataloader.py:178: RuntimeWarning: Mean of empty slice\n",
      "  self._feature_means = np.nanmean(all_tabular, axis=0)\n",
      "/Users/lolakovalski/Desktop/lola/code/ADmulti/dataloader.py:178: RuntimeWarning: Mean of empty slice\n",
      "  self._feature_means = np.nanmean(all_tabular, axis=0)\n"
     ]
    },
    {
     "name": "stdout",
     "output_type": "stream",
     "text": [
      "Training fusion MLP...\n",
      "Epoch 1: Loss=0.6973, Val Acc=0.774\n",
      "Epoch 2: Loss=0.5280, Val Acc=0.774\n",
      "Epoch 3: Loss=0.4291, Val Acc=0.811\n",
      "Epoch 4: Loss=0.3357, Val Acc=0.830\n",
      "Epoch 5: Loss=0.3026, Val Acc=0.792\n",
      "Epoch 6: Loss=0.2899, Val Acc=0.774\n",
      "Epoch 7: Loss=0.2993, Val Acc=0.774\n",
      "Epoch 8: Loss=0.2984, Val Acc=0.774\n",
      "Epoch 9: Loss=0.2819, Val Acc=0.792\n",
      "Early stopping for fusion MLP.\n"
     ]
    },
    {
     "name": "stderr",
     "output_type": "stream",
     "text": [
      "/Users/lolakovalski/Desktop/lola/code/ADmulti/dataloader.py:178: RuntimeWarning: Mean of empty slice\n",
      "  self._feature_means = np.nanmean(all_tabular, axis=0)\n",
      "/Users/lolakovalski/Desktop/lola/code/ADmulti/dataloader.py:178: RuntimeWarning: Mean of empty slice\n",
      "  self._feature_means = np.nanmean(all_tabular, axis=0)\n"
     ]
    },
    {
     "name": "stdout",
     "output_type": "stream",
     "text": [
      "Fusion Model - Accuracy: 0.792, F1: 0.560, Precision: 0.538, Recall: 0.583\n",
      "\n",
      ">> Training with params: {'mlp_hidden_dims': (256, 128), 'dropout': 0.5, 'lr': 0.0005, 'epochs': 20, 'patience': 5}\n",
      "Using pre-trained tabular (RF) baseline...\n",
      "Using pre-trained MRI (CNN) baseline...\n",
      "Extracting features for fusion...\n"
     ]
    },
    {
     "name": "stderr",
     "output_type": "stream",
     "text": [
      "/Users/lolakovalski/Desktop/lola/code/ADmulti/dataloader.py:178: RuntimeWarning: Mean of empty slice\n",
      "  self._feature_means = np.nanmean(all_tabular, axis=0)\n",
      "/Users/lolakovalski/Desktop/lola/code/ADmulti/dataloader.py:178: RuntimeWarning: Mean of empty slice\n",
      "  self._feature_means = np.nanmean(all_tabular, axis=0)\n",
      "/Users/lolakovalski/Desktop/lola/code/ADmulti/dataloader.py:178: RuntimeWarning: Mean of empty slice\n",
      "  self._feature_means = np.nanmean(all_tabular, axis=0)\n",
      "/Users/lolakovalski/Desktop/lola/code/ADmulti/dataloader.py:178: RuntimeWarning: Mean of empty slice\n",
      "  self._feature_means = np.nanmean(all_tabular, axis=0)\n",
      "/Users/lolakovalski/Desktop/lola/code/ADmulti/dataloader.py:178: RuntimeWarning: Mean of empty slice\n",
      "  self._feature_means = np.nanmean(all_tabular, axis=0)\n",
      "/Users/lolakovalski/Desktop/lola/code/ADmulti/dataloader.py:178: RuntimeWarning: Mean of empty slice\n",
      "  self._feature_means = np.nanmean(all_tabular, axis=0)\n",
      "/Users/lolakovalski/Desktop/lola/code/ADmulti/dataloader.py:178: RuntimeWarning: Mean of empty slice\n",
      "  self._feature_means = np.nanmean(all_tabular, axis=0)\n",
      "/Users/lolakovalski/Desktop/lola/code/ADmulti/dataloader.py:178: RuntimeWarning: Mean of empty slice\n",
      "  self._feature_means = np.nanmean(all_tabular, axis=0)\n"
     ]
    },
    {
     "name": "stdout",
     "output_type": "stream",
     "text": [
      "Training fusion MLP...\n",
      "Epoch 1: Loss=0.6970, Val Acc=0.774\n",
      "Epoch 2: Loss=0.6071, Val Acc=0.774\n",
      "Epoch 3: Loss=0.5233, Val Acc=0.774\n",
      "Epoch 4: Loss=0.4577, Val Acc=0.774\n",
      "Epoch 5: Loss=0.4157, Val Acc=0.830\n",
      "Epoch 6: Loss=0.3828, Val Acc=0.792\n",
      "Epoch 7: Loss=0.3347, Val Acc=0.774\n",
      "Epoch 8: Loss=0.3122, Val Acc=0.811\n",
      "Epoch 9: Loss=0.2969, Val Acc=0.792\n",
      "Epoch 10: Loss=0.2888, Val Acc=0.792\n",
      "Early stopping for fusion MLP.\n"
     ]
    },
    {
     "name": "stderr",
     "output_type": "stream",
     "text": [
      "/Users/lolakovalski/Desktop/lola/code/ADmulti/dataloader.py:178: RuntimeWarning: Mean of empty slice\n",
      "  self._feature_means = np.nanmean(all_tabular, axis=0)\n",
      "/Users/lolakovalski/Desktop/lola/code/ADmulti/dataloader.py:178: RuntimeWarning: Mean of empty slice\n",
      "  self._feature_means = np.nanmean(all_tabular, axis=0)\n"
     ]
    },
    {
     "name": "stdout",
     "output_type": "stream",
     "text": [
      "Fusion Model - Accuracy: 0.792, F1: 0.560, Precision: 0.538, Recall: 0.583\n"
     ]
    }
   ],
   "source": [
    "top_models, all_results = grid_search_early_fusion(\n",
    "    train_loader, val_loader, test_loader, dataset,\n",
    "    param_grid=param_grid,\n",
    "    slice_idx=6\n",
    ")"
   ]
  },
  {
   "cell_type": "code",
   "execution_count": 27,
   "metadata": {},
   "outputs": [
    {
     "data": {
      "text/plain": [
       "[({'mlp_hidden_dims': (64, 32),\n",
       "   'dropout': 0.3,\n",
       "   'lr': 0.0005,\n",
       "   'epochs': 20,\n",
       "   'patience': 5},\n",
       "  {'accuracy': 0.8113207547169812,\n",
       "   'f1': 0.5833333333333334,\n",
       "   'precision': 0.5833333333333334,\n",
       "   'recall': 0.5833333333333334},\n",
       "  <__main__.EarlyFusion at 0x3168217d0>),\n",
       " ({'mlp_hidden_dims': (128, 64),\n",
       "   'dropout': 0.3,\n",
       "   'lr': 0.0005,\n",
       "   'epochs': 20,\n",
       "   'patience': 5},\n",
       "  {'accuracy': 0.8113207547169812,\n",
       "   'f1': 0.5833333333333334,\n",
       "   'precision': 0.5833333333333334,\n",
       "   'recall': 0.5833333333333334},\n",
       "  <__main__.EarlyFusion at 0x16fa89c90>),\n",
       " ({'mlp_hidden_dims': (64,),\n",
       "   'dropout': 0.3,\n",
       "   'lr': 0.001,\n",
       "   'epochs': 20,\n",
       "   'patience': 5},\n",
       "  {'accuracy': 0.7924528301886793,\n",
       "   'f1': 0.56,\n",
       "   'precision': 0.5384615384615384,\n",
       "   'recall': 0.5833333333333334},\n",
       "  <__main__.EarlyFusion at 0x317289bd0>),\n",
       " ({'mlp_hidden_dims': (64,),\n",
       "   'dropout': 0.3,\n",
       "   'lr': 0.0005,\n",
       "   'epochs': 20,\n",
       "   'patience': 5},\n",
       "  {'accuracy': 0.7924528301886793,\n",
       "   'f1': 0.56,\n",
       "   'precision': 0.5384615384615384,\n",
       "   'recall': 0.5833333333333334},\n",
       "  <__main__.EarlyFusion at 0x16fa2bfd0>),\n",
       " ({'mlp_hidden_dims': (64,),\n",
       "   'dropout': 0.5,\n",
       "   'lr': 0.001,\n",
       "   'epochs': 20,\n",
       "   'patience': 5},\n",
       "  {'accuracy': 0.7924528301886793,\n",
       "   'f1': 0.56,\n",
       "   'precision': 0.5384615384615384,\n",
       "   'recall': 0.5833333333333334},\n",
       "  <__main__.EarlyFusion at 0x33f14ae10>),\n",
       " ({'mlp_hidden_dims': (64,),\n",
       "   'dropout': 0.5,\n",
       "   'lr': 0.0005,\n",
       "   'epochs': 20,\n",
       "   'patience': 5},\n",
       "  {'accuracy': 0.7924528301886793,\n",
       "   'f1': 0.56,\n",
       "   'precision': 0.5384615384615384,\n",
       "   'recall': 0.5833333333333334},\n",
       "  <__main__.EarlyFusion at 0x3172af610>),\n",
       " ({'mlp_hidden_dims': (64, 32),\n",
       "   'dropout': 0.3,\n",
       "   'lr': 0.001,\n",
       "   'epochs': 20,\n",
       "   'patience': 5},\n",
       "  {'accuracy': 0.7924528301886793,\n",
       "   'f1': 0.56,\n",
       "   'precision': 0.5384615384615384,\n",
       "   'recall': 0.5833333333333334},\n",
       "  <__main__.EarlyFusion at 0x33f3a5ad0>),\n",
       " ({'mlp_hidden_dims': (64, 32),\n",
       "   'dropout': 0.5,\n",
       "   'lr': 0.001,\n",
       "   'epochs': 20,\n",
       "   'patience': 5},\n",
       "  {'accuracy': 0.7924528301886793,\n",
       "   'f1': 0.56,\n",
       "   'precision': 0.5384615384615384,\n",
       "   'recall': 0.5833333333333334},\n",
       "  <__main__.EarlyFusion at 0x3172f0c10>),\n",
       " ({'mlp_hidden_dims': (128, 64),\n",
       "   'dropout': 0.3,\n",
       "   'lr': 0.001,\n",
       "   'epochs': 20,\n",
       "   'patience': 5},\n",
       "  {'accuracy': 0.7924528301886793,\n",
       "   'f1': 0.56,\n",
       "   'precision': 0.5384615384615384,\n",
       "   'recall': 0.5833333333333334},\n",
       "  <__main__.EarlyFusion at 0x3172d8790>),\n",
       " ({'mlp_hidden_dims': (128, 64),\n",
       "   'dropout': 0.5,\n",
       "   'lr': 0.001,\n",
       "   'epochs': 20,\n",
       "   'patience': 5},\n",
       "  {'accuracy': 0.7924528301886793,\n",
       "   'f1': 0.56,\n",
       "   'precision': 0.5384615384615384,\n",
       "   'recall': 0.5833333333333334},\n",
       "  <__main__.EarlyFusion at 0x3173c9950>),\n",
       " ({'mlp_hidden_dims': (256, 128),\n",
       "   'dropout': 0.3,\n",
       "   'lr': 0.001,\n",
       "   'epochs': 20,\n",
       "   'patience': 5},\n",
       "  {'accuracy': 0.7924528301886793,\n",
       "   'f1': 0.56,\n",
       "   'precision': 0.5384615384615384,\n",
       "   'recall': 0.5833333333333334},\n",
       "  <__main__.EarlyFusion at 0x31733e010>),\n",
       " ({'mlp_hidden_dims': (256, 128),\n",
       "   'dropout': 0.3,\n",
       "   'lr': 0.0005,\n",
       "   'epochs': 20,\n",
       "   'patience': 5},\n",
       "  {'accuracy': 0.7924528301886793,\n",
       "   'f1': 0.56,\n",
       "   'precision': 0.5384615384615384,\n",
       "   'recall': 0.5833333333333334},\n",
       "  <__main__.EarlyFusion at 0x33f4d4ad0>),\n",
       " ({'mlp_hidden_dims': (256, 128),\n",
       "   'dropout': 0.5,\n",
       "   'lr': 0.001,\n",
       "   'epochs': 20,\n",
       "   'patience': 5},\n",
       "  {'accuracy': 0.7924528301886793,\n",
       "   'f1': 0.56,\n",
       "   'precision': 0.5384615384615384,\n",
       "   'recall': 0.5833333333333334},\n",
       "  <__main__.EarlyFusion at 0x31733eb50>),\n",
       " ({'mlp_hidden_dims': (256, 128),\n",
       "   'dropout': 0.5,\n",
       "   'lr': 0.0005,\n",
       "   'epochs': 20,\n",
       "   'patience': 5},\n",
       "  {'accuracy': 0.7924528301886793,\n",
       "   'f1': 0.56,\n",
       "   'precision': 0.5384615384615384,\n",
       "   'recall': 0.5833333333333334},\n",
       "  <__main__.EarlyFusion at 0x33f3cbb90>),\n",
       " ({'mlp_hidden_dims': (128, 64),\n",
       "   'dropout': 0.5,\n",
       "   'lr': 0.0005,\n",
       "   'epochs': 20,\n",
       "   'patience': 5},\n",
       "  {'accuracy': 0.7924528301886793,\n",
       "   'f1': 0.35294117647058826,\n",
       "   'precision': 0.6,\n",
       "   'recall': 0.25},\n",
       "  <__main__.EarlyFusion at 0x16fa45890>),\n",
       " ({'mlp_hidden_dims': (64, 32),\n",
       "   'dropout': 0.5,\n",
       "   'lr': 0.0005,\n",
       "   'epochs': 20,\n",
       "   'patience': 5},\n",
       "  {'accuracy': 0.7924528301886793,\n",
       "   'f1': 0.15384615384615385,\n",
       "   'precision': 1.0,\n",
       "   'recall': 0.08333333333333333},\n",
       "  <__main__.EarlyFusion at 0x33f2e0a50>)]"
      ]
     },
     "execution_count": 27,
     "metadata": {},
     "output_type": "execute_result"
    }
   ],
   "source": [
    "all_results"
   ]
  },
  {
   "cell_type": "code",
   "execution_count": 28,
   "metadata": {},
   "outputs": [
    {
     "data": {
      "text/plain": [
       "({'mlp_hidden_dims': (128, 64),\n",
       "  'dropout': 0.3,\n",
       "  'lr': 0.0005,\n",
       "  'epochs': 20,\n",
       "  'patience': 5},\n",
       " {'accuracy': 0.8113207547169812,\n",
       "  'f1': 0.5833333333333334,\n",
       "  'precision': 0.5833333333333334,\n",
       "  'recall': 0.5833333333333334},\n",
       " <__main__.EarlyFusion at 0x16fa89c90>)"
      ]
     },
     "execution_count": 28,
     "metadata": {},
     "output_type": "execute_result"
    }
   ],
   "source": [
    "all_results[1]"
   ]
  },
  {
   "cell_type": "code",
   "execution_count": 29,
   "metadata": {},
   "outputs": [],
   "source": [
    "accuracies = [result[1]['accuracy'] for result in all_results]\n",
    "dropouts = [result[0]['dropout'] for result in all_results]\n",
    "lr = [result[0]['lr'] for result in all_results]\n",
    "hidden_dims = [result[0]['mlp_hidden_dims'] for result in all_results]"
   ]
  },
  {
   "cell_type": "code",
   "execution_count": 1,
   "metadata": {},
   "outputs": [],
   "source": [
    "# Final Early Fusion Implementation\n",
    "\n",
    "import torch\n",
    "import torch.nn as nn\n",
    "import torch.optim as optim\n",
    "import numpy as np\n",
    "from sklearn.metrics import accuracy_score, precision_score, recall_score, f1_score\n",
    "from unimodal_baseline import TabularBaseline, MRIBaseline\n",
    "\n",
    "class EarlyFusion:\n",
    "    def __init__(self, device=None, tab_model=None, mri_model=None,\n",
    "                 mlp_hidden_dims=(128, 64), dropout=0.3, lr=1e-3, epochs=20, patience=5):\n",
    "        self.tab_model = tab_model if tab_model is not None else TabularBaseline()\n",
    "        self.mri_model = mri_model if mri_model is not None else MRIBaseline()\n",
    "        self.device = device or torch.device('cuda' if torch.cuda.is_available() else 'cpu')\n",
    "        self.fusion_mlp = None\n",
    "\n",
    "        self.mlp_hidden_dims = mlp_hidden_dims\n",
    "        self.dropout = dropout\n",
    "        self.lr = lr\n",
    "        self.epochs = epochs\n",
    "        self.patience = patience\n",
    "\n",
    "    def fit(self, train_loader, val_loader, test_loader, slice_idx=6):\n",
    "        print(\"\\n[INFO] Loading Data and Training Baselines if Needed...\")\n",
    "        self.tab_model.load_data(train_loader, test_loader, val_loader)\n",
    "        self.mri_model.load_data(train_loader, val_loader, test_loader)\n",
    "\n",
    "        if self.tab_model.model is None:\n",
    "            self.tab_model.train()\n",
    "        if self.mri_model.model is None:\n",
    "            self.mri_model.train_on_specific_slice(train_loader, val_loader, test_loader, slice_idx)\n",
    "\n",
    "        self.mri_model.model.eval()\n",
    "\n",
    "        print(\"\\n[INFO] Extracting Features for Fusion...\")\n",
    "        X_train_cnn, X_train_tab, y_train = self._extract_features(train_loader, slice_idx)\n",
    "        X_val_cnn, X_val_tab, y_val = self._extract_features(val_loader, slice_idx)\n",
    "\n",
    "        X_train_rf = self.tab_model.model.predict_proba(X_train_tab)\n",
    "        X_val_rf = self.tab_model.model.predict_proba(X_val_tab)\n",
    "\n",
    "        X_train_fused = np.concatenate([X_train_cnn, X_train_rf], axis=1)\n",
    "        X_val_fused = np.concatenate([X_val_cnn, X_val_rf], axis=1)\n",
    "\n",
    "        print(\"\\n[INFO] Training Fusion MLP...\")\n",
    "        self.fusion_mlp = self._build_mlp(X_train_fused.shape[1], 2).to(self.device)\n",
    "        self._train_mlp(X_train_fused, y_train, X_val_fused, y_val)\n",
    "\n",
    "    def _extract_features(self, loader, slice_idx=6):\n",
    "        cnn_features, tabular_features, labels = [], [], []\n",
    "        model = self.mri_model.model\n",
    "        model.eval()\n",
    "\n",
    "        with torch.no_grad():\n",
    "            for batch in loader:\n",
    "                mri_slice = batch['mri'][:, :, slice_idx, :, :].to(self.device)\n",
    "                x = model.features(mri_slice)\n",
    "                x = model.avgpool(x)\n",
    "                x = torch.flatten(x, 1)\n",
    "                x = model.classifier[:-1](x)\n",
    "                feats = x.cpu().numpy()\n",
    "\n",
    "                cnn_features.append(feats)\n",
    "                tabular_features.append(batch['tabular'].cpu().numpy())\n",
    "                labels.append(batch['label'].view(-1).cpu().numpy())\n",
    "\n",
    "        return np.concatenate(cnn_features), np.concatenate(tabular_features), np.concatenate(labels)\n",
    "\n",
    "    def _build_mlp(self, input_dim, num_classes):\n",
    "        layers = []\n",
    "        dims = [input_dim] + list(self.mlp_hidden_dims)\n",
    "        for i in range(len(dims) - 1):\n",
    "            layers.append(nn.Linear(dims[i], dims[i+1]))\n",
    "            layers.append(nn.ReLU())\n",
    "            layers.append(nn.Dropout(self.dropout))\n",
    "        layers.append(nn.Linear(dims[-1], num_classes))\n",
    "        return nn.Sequential(*layers)\n",
    "\n",
    "    def _train_mlp(self, X_train, y_train, X_val, y_val):\n",
    "        model = self.fusion_mlp\n",
    "        optimizer = optim.Adam(model.parameters(), lr=self.lr)\n",
    "        criterion = nn.CrossEntropyLoss()\n",
    "\n",
    "        X_train = torch.FloatTensor(X_train).to(self.device)\n",
    "        y_train = torch.LongTensor(y_train).to(self.device)\n",
    "        X_val = torch.FloatTensor(X_val).to(self.device)\n",
    "        y_val = torch.LongTensor(y_val).to(self.device)\n",
    "\n",
    "        best_acc = 0\n",
    "        patience_counter = 0\n",
    "        for epoch in range(self.epochs):\n",
    "            model.train()\n",
    "            optimizer.zero_grad()\n",
    "            logits = model(X_train)\n",
    "            loss = criterion(logits, y_train)\n",
    "            loss.backward()\n",
    "            optimizer.step()\n",
    "\n",
    "            model.eval()\n",
    "            with torch.no_grad():\n",
    "                val_logits = model(X_val)\n",
    "                preds = torch.argmax(val_logits, dim=1)\n",
    "                acc = (preds == y_val).float().mean().item()\n",
    "\n",
    "            print(f\"Epoch {epoch+1}: Loss={loss.item():.4f}, Val Acc={acc:.3f}\")\n",
    "\n",
    "            if acc > best_acc:\n",
    "                best_acc = acc\n",
    "                patience_counter = 0\n",
    "            else:\n",
    "                patience_counter += 1\n",
    "                if patience_counter >= self.patience:\n",
    "                    print(\"[INFO] Early stopping triggered.\")\n",
    "                    break\n",
    "\n",
    "    def evaluate(self, test_loader, slice_idx=6):\n",
    "        if self.fusion_mlp is None:\n",
    "            raise ValueError(\"Fusion MLP not trained. Run fit() first.\")\n",
    "\n",
    "        X_test_cnn, X_test_tab, y_test = self._extract_features(test_loader, slice_idx)\n",
    "        X_test_rf = self.tab_model.model.predict_proba(X_test_tab)\n",
    "        X_test_fused = np.concatenate([X_test_cnn, X_test_rf], axis=1)\n",
    "\n",
    "        self.fusion_mlp.eval()\n",
    "        X_tensor = torch.FloatTensor(X_test_fused).to(self.device)\n",
    "        with torch.no_grad():\n",
    "            logits = self.fusion_mlp(X_tensor)\n",
    "            preds = torch.argmax(logits, dim=1).cpu().numpy()\n",
    "\n",
    "        acc = accuracy_score(y_test, preds)\n",
    "        f1 = f1_score(y_test, preds)\n",
    "        prec = precision_score(y_test, preds)\n",
    "        rec = recall_score(y_test, preds)\n",
    "\n",
    "        print(f\"\\nFusion Model Evaluation:\")\n",
    "        print(f\"Accuracy:  {acc:.3f}\")\n",
    "        print(f\"F1 Score:  {f1:.3f}\")\n",
    "        print(f\"Precision: {prec:.3f}\")\n",
    "        print(f\"Recall:    {rec:.3f}\")\n",
    "\n",
    "        return {'accuracy': acc, 'f1': f1, 'precision': prec, 'recall': rec}\n"
   ]
  },
  {
   "cell_type": "code",
   "execution_count": null,
   "metadata": {},
   "outputs": [],
   "source": [
    "\n",
    "# data_dir = 'data'  # Update path as needed\n",
    "# batch_size = 32\n",
    "# train_loader, val_loader, test_loader = get_data_loaders(data_dir, batch_size=batch_size, num_workers=4)\n",
    "\n",
    "# tab_model = TabularBaseline()\n",
    "# tab_model.load_data(train_loader, test_loader, val_loader)\n",
    "# tab_model.train()\n",
    "# torch.save(tab_model, \"tab_model_fusion.pth\")\n",
    "\n",
    "# mri_model = MRIBaseline()\n",
    "# mri_model.load_data(train_loader, val_loader, test_loader)\n",
    "# slice_idx = 6\n",
    "# trained_mri_model, val_metrics = mri_model.train_on_specific_slice(\n",
    "#     train_loader, val_loader, test_loader, slice_idx=slice_idx\n",
    "# )\n",
    "# torch.save(trained_mri_model, \"mri_model_slice6_full.pth\")\n",
    "\n",
    "# param_grid = {\n",
    "#     'mlp_hidden_dims': [(128, 64), (256, 128)],\n",
    "#     'dropout': [0.3, 0.5],\n",
    "#     'lr': [1e-3, 5e-4],\n",
    "#     'epochs': [20],\n",
    "#     'patience': [5]\n",
    "# }\n",
    "\n",
    "\n",
    "# def grid_search_early_fusion(param_grid, train_loader, val_loader, test_loader, tab_model, mri_model, slice_idx):\n",
    "#     results = []\n",
    "#     keys, values = zip(*param_grid.items())\n",
    "#     for combo in product(*values):\n",
    "#         params = dict(zip(keys, combo))\n",
    "#         print(f\"\\nTraining with params: {params}\")\n",
    "\n",
    "#         fusion_model = EarlyFusion(\n",
    "#             device=torch.device('cuda' if torch.cuda.is_available() else 'cpu'),\n",
    "#             tab_model=tab_model,\n",
    "#             mri_model=mri_model,\n",
    "#             mlp_hidden_dims=params['mlp_hidden_dims'],\n",
    "#             dropout=params['dropout'],\n",
    "#             lr=params['lr'],\n",
    "#             epochs=params['epochs'],\n",
    "#             patience=params['patience']\n",
    "#         )\n",
    "\n",
    "#         fusion_model.fit(train_loader, val_loader, test_loader, slice_idx=slice_idx)\n",
    "#         val_metrics = fusion_model.evaluate(val_loader)\n",
    "#         results.append((params, val_metrics, deepcopy(fusion_model)))\n",
    "\n",
    "#     # Rank results by F1 Score\n",
    "#     results.sort(key=lambda x: x[1]['f1'], reverse=True)\n",
    "#     return results[:3], results  # Return top 3 models and all results\n",
    "\n",
    "# top_models, all_results = grid_search_early_fusion(\n",
    "#     param_grid, train_loader, val_loader, test_loader, tab_model, mri_model, slice_idx\n",
    "# )\n",
    "\n",
    "# print(\"\\n Final Evaluation on Test Set with Best Model:\")\n",
    "# best_fusion_model = top_models[0][2]\n",
    "# best_fusion_model.evaluate(test_loader)\n",
    "\n",
    "# torch.save(best_fusion_model.fusion_mlp.state_dict(), \"best_fusion_mlp.pth\")\n"
   ]
  },
  {
   "cell_type": "code",
   "execution_count": 31,
   "metadata": {},
   "outputs": [
    {
     "name": "stderr",
     "output_type": "stream",
     "text": [
      "/Users/lolakovalski/Desktop/lola/code/ADmulti/dataloader.py:178: RuntimeWarning: Mean of empty slice\n",
      "  self._feature_means = np.nanmean(all_tabular, axis=0)\n",
      "/Users/lolakovalski/Desktop/lola/code/ADmulti/dataloader.py:178: RuntimeWarning: Mean of empty slice\n",
      "  self._feature_means = np.nanmean(all_tabular, axis=0)\n"
     ]
    },
    {
     "name": "stdout",
     "output_type": "stream",
     "text": [
      "Fusion Model - Accuracy: 0.852, F1: 0.667, Precision: 0.889, Recall: 0.533\n"
     ]
    }
   ],
   "source": [
    "best_fusion_model = top_models[0][2]\n",
    "best_fusion_model.evaluate(test_loader)\n",
    "torch.save(best_fusion_model.fusion_mlp.state_dict(), \"best_fusion_mlp.pth\")"
   ]
  },
  {
   "cell_type": "code",
   "execution_count": null,
   "metadata": {},
   "outputs": [],
   "source": [
    "mri_mod.evaluate_on(mri_mod.model, data_loader = test_loader)"
   ]
  },
  {
   "cell_type": "code",
   "execution_count": 18,
   "metadata": {},
   "outputs": [
    {
     "name": "stderr",
     "output_type": "stream",
     "text": [
      "/Users/lolakovalski/Desktop/lola/code/ADmulti/dataloader.py:178: RuntimeWarning: Mean of empty slice\n",
      "  self._feature_means = np.nanmean(all_tabular, axis=0)\n",
      "/Users/lolakovalski/Desktop/lola/code/ADmulti/dataloader.py:178: RuntimeWarning: Mean of empty slice\n",
      "  self._feature_means = np.nanmean(all_tabular, axis=0)\n",
      "/Users/lolakovalski/Desktop/lola/code/ADmulti/dataloader.py:178: RuntimeWarning: Mean of empty slice\n",
      "  self._feature_means = np.nanmean(all_tabular, axis=0)\n",
      "/Users/lolakovalski/Desktop/lola/code/ADmulti/dataloader.py:178: RuntimeWarning: Mean of empty slice\n",
      "  self._feature_means = np.nanmean(all_tabular, axis=0)\n"
     ]
    },
    {
     "data": {
      "image/png": "[encoded data removed]",
      "text/plain": [
       "<Figure size 800x600 with 1 Axes>"
      ]
     },
     "metadata": {},
     "output_type": "display_data"
    }
   ],
   "source": [
    "device = torch.device('cuda' if torch.cuda.is_available() else 'cpu')\n",
    "mri_model = mri_mod.model\n",
    "#torch.load(\"mri_model_slice6_full.pth\", map_location=device, weights_only=False)\n",
    "fusion_mlp = early_mod.fusion_mlp\n",
    "#torch.load(\"best_fusion_mlp.pth\", map_location=device, weights_only=False)\n",
    "# Extract CNN and Tabular features to calculate input dimension\n",
    "#input_dim = 4096 + 2  # Example only, adjust based on actual architecture\n",
    "#fusion_mlp = EarlyFusion(\n",
    "#    mlp_hidden_dims=(64, 32),\n",
    "#    dropout=0.3,\n",
    "#). _build_mlp(input_dim, num_classes=2).to(device)\n",
    "\n",
    "#fusion_mlp.load_state_dict(torch.load(\"best_fusion_mlp.pth\"))\n",
    "#fusion_mlp.eval()\n",
    "\n",
    "\n",
    "dataset = AlzheimerDataset('data')\n",
    "test_cdr_labels = [dataset.multiclass_labels[i] for i in test_loader.dataset.indices]\n",
    "# Correct way to get true test labels\n",
    "true_test_labels = [dataset.labels[i] for i in test_loader.dataset.indices]\n",
    "\n",
    "mri_preds = []\n",
    "mri_model.eval()\n",
    "with torch.no_grad():\n",
    "    for batch in test_loader:\n",
    "        imgs = batch['mri'][:, :, 6, :, :].to(device)  # Slice 6 (Index 5)\n",
    "        outputs = mri_model(imgs)\n",
    "        _, preds = torch.max(outputs, 1)\n",
    "        mri_preds.extend(preds.cpu().tolist())\n",
    "\n",
    "tab_preds = tab_mod.model.predict(tab_mod.X_test)\n",
    "\n",
    "def extract_fusion_features(loader, mri_model, slice_idx=6):\n",
    "    cnn_feats, tab_feats = [], []\n",
    "    for batch in loader:\n",
    "        img = batch['mri'][:, :, slice_idx, :, :].to(device)\n",
    "        with torch.no_grad():\n",
    "            x = mri_model.features(img)\n",
    "            x = mri_model.avgpool(x)\n",
    "            x = torch.flatten(x, 1)\n",
    "            x = mri_model.classifier[:-1](x)  # Remove final classification layer\n",
    "            cnn_feats.append(x.cpu().numpy())\n",
    "        tab_feats.append(batch['tabular'].cpu().numpy())\n",
    "    return np.concatenate(cnn_feats), np.concatenate(tab_feats)\n",
    "\n",
    "X_test_cnn, X_test_tab = extract_fusion_features(test_loader, mri_model, slice_idx=6)\n",
    "X_test_tab = np.delete(X_test_tab, 0, axis = 1)\n",
    "X_test_rf = tab_mod.model.predict_proba(X_test_tab)\n",
    "X_test_fused = np.concatenate([X_test_cnn, X_test_rf], axis=1)\n",
    "\n",
    "with torch.no_grad():\n",
    "    logits = fusion_mlp(torch.FloatTensor(X_test_fused).to(device))\n",
    "    _, preds = torch.max(logits, 1)\n",
    "    fusion_preds = preds.cpu().numpy()\n",
    "\n",
    "def compute_per_cdr_accuracy(preds, true_labels, cdr_labels):\n",
    "    preds, true_labels, cdr_labels = map(np.array, [preds, true_labels, cdr_labels])\n",
    "    cdr_values = np.unique(cdr_labels)\n",
    "    accuracies = []\n",
    "    for cdr in cdr_values:\n",
    "        mask = (cdr_labels == cdr)\n",
    "        if np.sum(mask) == 0:\n",
    "            accuracies.append(np.nan)\n",
    "        else:\n",
    "            accuracies.append(accuracy_score(true_labels[mask], preds[mask]))\n",
    "    return cdr_values, accuracies\n",
    "\n",
    "cdr_vals, acc_mri = compute_per_cdr_accuracy(mri_preds, true_test_labels, test_cdr_labels)\n",
    "_, acc_tab = compute_per_cdr_accuracy(tab_preds, true_test_labels, test_cdr_labels)\n",
    "_, acc_fusion = compute_per_cdr_accuracy(fusion_preds, true_test_labels, test_cdr_labels)\n",
    "\n",
    "def plot_model_comparison_by_cdr(cdr_vals, acc_mri, acc_tab, acc_fusion):\n",
    "    bar_width = 0.2\n",
    "    x = np.arange(len(cdr_vals))\n",
    "\n",
    "    plt.figure(figsize=(8, 6))\n",
    "    bars_mri = plt.bar(x - bar_width, acc_mri, width=bar_width, label='MRI Model', color='skyblue')\n",
    "    bars_tab = plt.bar(x, acc_tab, width=bar_width, label='Tabular RF', color='orange')\n",
    "    bars_fusion = plt.bar(x + bar_width, acc_fusion, width=bar_width, label='Early Fusion', color='green')\n",
    "\n",
    "    plt.xlabel('CDR Value')\n",
    "    plt.ylabel('Accuracy')\n",
    "    plt.title('Per-CDR Accuracy Comparison')\n",
    "    plt.xticks(x, cdr_vals)\n",
    "    plt.ylim(0, 1.1)\n",
    "    plt.legend()\n",
    "\n",
    "    # Add annotations\n",
    "    for bars in [bars_mri, bars_tab, bars_fusion]:\n",
    "        for bar in bars:\n",
    "            height = bar.get_height()\n",
    "            if not np.isnan(height):\n",
    "                plt.text(bar.get_x() + bar.get_width() / 2, height + 0.02, f'{height:.2f}', \n",
    "                         ha='center', va='bottom', fontsize=9)\n",
    "\n",
    "    plt.tight_layout()\n",
    "    plt.show()\n",
    "\n",
    "plot_model_comparison_by_cdr(cdr_vals, acc_mri, acc_tab, acc_fusion)\n"
   ]
  },
  {
   "cell_type": "code",
   "execution_count": 21,
   "metadata": {},
   "outputs": [
    {
     "name": "stdout",
     "output_type": "stream",
     "text": [
      "MRI Model: Accuracy = 0.759, Precision = 0.538, Recall = 0.933, F1 = 0.683\n",
      "Tabular RF: Accuracy = 0.907, Precision = 0.917, Recall = 0.733, F1 = 0.815\n"
     ]
    }
   ],
   "source": [
    "from sklearn.metrics import accuracy_score, f1_score, precision_score, recall_score\n",
    "\n",
    "def print_metrics(name, preds, true_labels):\n",
    "    acc = accuracy_score(true_labels, preds)\n",
    "    f1 = f1_score(true_labels, preds)\n",
    "    prec = precision_score(true_labels, preds)\n",
    "    rec = recall_score(true_labels, preds)\n",
    "    print(f\"{name}: Accuracy = {acc:.3f}, Precision = {prec:.3f}, Recall = {rec:.3f}, F1 = {f1:.3f}\")\n",
    "\n",
    "print_metrics(\"MRI Model\", mri_preds, true_test_labels)\n",
    "print_metrics(\"Tabular RF\", tab_preds, true_test_labels)"
   ]
  },
  {
   "cell_type": "code",
   "execution_count": null,
   "metadata": {},
   "outputs": [],
   "source": [
    "# device = torch.device('cuda' if torch.cuda.is_available() else 'cpu')\n",
    "\n",
    "# # Feature Extraction Function\n",
    "# def extract_joint_features(loader, mri_model, tab_model, device, slice_idx=6):\n",
    "#     cnn_probs, rf_probs, labels = [], [], []\n",
    "#     mri_model.eval()\n",
    "#     with torch.no_grad():\n",
    "#         for batch in loader:\n",
    "#             imgs = batch['mri'][:, :, slice_idx, :, :].to(device)\n",
    "#             outputs = mri_model(imgs)\n",
    "#             probs = torch.softmax(outputs, dim=1).cpu().numpy()\n",
    "#             cnn_probs.append(probs)\n",
    "            \n",
    "#             tab_feats = batch['tabular'].cpu().numpy()\n",
    "#             rf_probs.append(tab_model.model.predict_proba(tab_feats))\n",
    "            \n",
    "#             labels.append(batch['label'].view(-1).cpu().numpy())\n",
    "\n",
    "#     return np.concatenate(cnn_probs), np.concatenate(rf_probs), np.concatenate(labels)\n",
    "\n",
    "# # Extract Features\n",
    "# cnn_probs_train, X_train_rf, true_train_labels = extract_joint_features(train_loader, mri_model, tab_model, device)\n",
    "# cnn_probs_val, X_val_rf, true_val_labels = extract_joint_features(val_loader, mri_model, tab_model, device)\n",
    "# cnn_probs_test, X_test_rf, true_test_labels = extract_joint_features(test_loader, mri_model, tab_model, device)\n",
    "\n",
    "# # =========================\n",
    "# # Find Best Weight for Weighted Average Using Validation Set\n",
    "# best_f1, best_weight = -1, 0.5\n",
    "# for w in np.linspace(0, 1, 21):\n",
    "#     blended_probs = w * X_val_rf + (1 - w) * cnn_probs_val\n",
    "#     preds = np.argmax(blended_probs, axis=1)\n",
    "#     f1 = f1_score(true_val_labels, preds)\n",
    "#     if f1 > best_f1:\n",
    "#         best_f1, best_weight = f1, w\n",
    "\n",
    "# print(f\"\\nBest Weight for Weighted Average: {best_weight:.2f} (F1: {best_f1:.3f})\\n\")\n",
    "\n",
    "# # =========================\n",
    "# # Train Late Fusion Models on Training Data Only\n",
    "# fusion_inputs_train = np.concatenate([cnn_probs_train, X_train_rf], axis=1)\n",
    "# fusion_inputs_test = np.concatenate([cnn_probs_test, X_test_rf], axis=1)\n",
    "\n",
    "# fusion_models = {\n",
    "#     \"Logistic Regression\": LogisticRegression(max_iter=1000).fit(fusion_inputs_train, true_train_labels),\n",
    "#     \"Random Forest\": RandomForestClassifier(n_estimators=100).fit(fusion_inputs_train, true_train_labels),\n",
    "#     \"Gradient Boosting\": GradientBoostingClassifier(n_estimators=100).fit(fusion_inputs_train, true_train_labels),\n",
    "#     \"Simple Average\": None,\n",
    "#     \"Weighted Average\": None\n",
    "# }\n",
    "\n",
    "# # Predictions on Test Set\n",
    "# fusion_preds = {}\n",
    "# for name, model in fusion_models.items():\n",
    "#     if model is not None:\n",
    "#         preds = model.predict(fusion_inputs_test)\n",
    "#     else:\n",
    "#         avg_probs = (cnn_probs_test + X_test_rf) / 2\n",
    "#         if name == \"Weighted Average\":\n",
    "#             avg_probs = best_weight * X_test_rf + (1 - best_weight) * cnn_probs_test\n",
    "#         preds = np.argmax(avg_probs, axis=1)\n",
    "#     fusion_preds[name] = preds\n",
    "\n",
    "# # Metrics Calculation\n",
    "# def compute_metrics(y_true, y_pred):\n",
    "#     return {\n",
    "#         \"Accuracy\": accuracy_score(y_true, y_pred),\n",
    "#         \"Precision\": precision_score(y_true, y_pred),\n",
    "#         \"Recall\": recall_score(y_true, y_pred),\n",
    "#         \"F1 Score\": f1_score(y_true, y_pred)\n",
    "#     }\n",
    "\n",
    "# metrics_table = {}\n",
    "# for name, preds in fusion_preds.items():\n",
    "#     metrics_table[name] = compute_metrics(true_test_labels, preds)\n",
    "\n",
    "# # Print Metrics\n",
    "# print(\"Late Fusion Model Performance on Test Set:\\n\")\n",
    "# for name, metrics in metrics_table.items():\n",
    "#     print(f\"{name}: Acc={metrics['Accuracy']:.3f}, Prec={metrics['Precision']:.3f}, \"\n",
    "#           f\"Rec={metrics['Recall']:.3f}, F1={metrics['F1 Score']:.3f}\")\n",
    "\n",
    "# # Compute Per-CDR Accuracy\n",
    "# cdr_vals = np.unique([dataset.multiclass_labels[i] for i in test_loader.dataset.indices])\n",
    "# test_cdr_labels = [dataset.multiclass_labels[i] for i in test_loader.dataset.indices]\n",
    "\n",
    "# def compute_per_cdr_accuracy(preds, true_labels, cdr_labels):\n",
    "#     preds, true_labels, cdr_labels = map(np.array, [preds, true_labels, cdr_labels])\n",
    "#     cdr_values = np.unique(cdr_labels)\n",
    "#     accuracies = []\n",
    "#     for cdr in cdr_values:\n",
    "#         mask = (cdr_labels == cdr)\n",
    "#         if np.sum(mask) == 0:\n",
    "#             accuracies.append(np.nan)\n",
    "#         else:\n",
    "#             accuracies.append(accuracy_score(true_labels[mask], preds[mask]))\n",
    "#     return cdr_values, accuracies\n",
    "\n",
    "# fusion_cdr_accuracies = {}\n",
    "# for name, preds in fusion_preds.items():\n",
    "#     _, acc = compute_per_cdr_accuracy(preds, true_test_labels, test_cdr_labels)\n",
    "#     fusion_cdr_accuracies[name] = acc\n",
    "\n",
    "# # Plot 1: Best Late Fusion vs Baselines with Labels\n",
    "# best_model_name = max(metrics_table.items(), key=lambda x: x[1]['F1 Score'])[0]\n",
    "# acc_best = fusion_cdr_accuracies[best_model_name]\n",
    "\n",
    "# plt.figure(figsize=(8, 6))\n",
    "# x = np.arange(len(cdr_vals))\n",
    "# bar_width = 0.2\n",
    "\n",
    "# bars_mri = plt.bar(x - bar_width, acc_mri, bar_width, label=\"MRI\", color='skyblue')\n",
    "# bars_tab = plt.bar(x, acc_tab, bar_width, label=\"Tabular RF\", color='orange')\n",
    "# bars_fusion = plt.bar(x + bar_width, acc_fusion, bar_width, label=\"Early Fusion\", color='green')\n",
    "# bars_best = plt.bar(x + 2 * bar_width, acc_best, bar_width, label=f\"Late Fusion ({best_model_name})\", color='red')\n",
    "\n",
    "# # Add labels on bars\n",
    "# for bars in [bars_mri, bars_tab, bars_fusion, bars_best]:\n",
    "#     for bar in bars:\n",
    "#         height = bar.get_height()\n",
    "#         if not np.isnan(height):\n",
    "#             plt.text(bar.get_x() + bar.get_width() / 2, height + 0.02, f'{height:.2f}', \n",
    "#                      ha='center', va='bottom', fontsize=8)\n",
    "\n",
    "# plt.xlabel('CDR Value')\n",
    "# plt.ylabel('Accuracy')\n",
    "# plt.title('Best Late Fusion vs Baselines')\n",
    "# plt.xticks(x, cdr_vals)\n",
    "# plt.ylim(0, 1.1)\n",
    "# plt.legend()\n",
    "# plt.tight_layout()\n",
    "# plt.show()\n",
    "\n",
    "# # Plot 2: All Late Fusion Models by CDR (With Labels)\n",
    "# plt.figure(figsize=(10, 6))\n",
    "# bar_width = 0.15\n",
    "\n",
    "# for idx, (name, acc) in enumerate(fusion_cdr_accuracies.items()):\n",
    "#     bars = plt.bar(x + idx * bar_width, acc, width=bar_width, label=name)\n",
    "#     for bar in bars:\n",
    "#         height = bar.get_height()\n",
    "#         if not np.isnan(height):\n",
    "#             plt.text(bar.get_x() + bar.get_width() / 2, height + 0.02, f'{height:.2f}', \n",
    "#                      ha='center', va='bottom', fontsize=8)\n",
    "\n",
    "# plt.xlabel('CDR Value')\n",
    "# plt.ylabel('Accuracy')\n",
    "# plt.title('Late Fusion Models by CDR')\n",
    "# plt.xticks(x + bar_width * (len(fusion_cdr_accuracies) - 1) / 2, cdr_vals)\n",
    "# plt.ylim(0, 1.1)\n",
    "# plt.legend()\n",
    "# plt.tight_layout()\n",
    "# plt.show()\n"
   ]
  },
  {
   "cell_type": "code",
   "execution_count": 24,
   "metadata": {},
   "outputs": [
    {
     "name": "stderr",
     "output_type": "stream",
     "text": [
      "/Users/lolakovalski/Desktop/lola/code/ADmulti/dataloader.py:178: RuntimeWarning: Mean of empty slice\n",
      "  self._feature_means = np.nanmean(all_tabular, axis=0)\n",
      "/Users/lolakovalski/Desktop/lola/code/ADmulti/dataloader.py:178: RuntimeWarning: Mean of empty slice\n",
      "  self._feature_means = np.nanmean(all_tabular, axis=0)\n",
      "/Users/lolakovalski/Desktop/lola/code/ADmulti/dataloader.py:178: RuntimeWarning: Mean of empty slice\n",
      "  self._feature_means = np.nanmean(all_tabular, axis=0)\n",
      "/Users/lolakovalski/Desktop/lola/code/ADmulti/dataloader.py:178: RuntimeWarning: Mean of empty slice\n",
      "  self._feature_means = np.nanmean(all_tabular, axis=0)\n",
      "/Users/lolakovalski/Desktop/lola/code/ADmulti/dataloader.py:178: RuntimeWarning: Mean of empty slice\n",
      "  self._feature_means = np.nanmean(all_tabular, axis=0)\n",
      "/Users/lolakovalski/Desktop/lola/code/ADmulti/dataloader.py:178: RuntimeWarning: Mean of empty slice\n",
      "  self._feature_means = np.nanmean(all_tabular, axis=0)\n",
      "/Users/lolakovalski/Desktop/lola/code/ADmulti/dataloader.py:178: RuntimeWarning: Mean of empty slice\n",
      "  self._feature_means = np.nanmean(all_tabular, axis=0)\n",
      "/Users/lolakovalski/Desktop/lola/code/ADmulti/dataloader.py:178: RuntimeWarning: Mean of empty slice\n",
      "  self._feature_means = np.nanmean(all_tabular, axis=0)\n"
     ]
    },
    {
     "name": "stdout",
     "output_type": "stream",
     "text": [
      "\n",
      "Best Weight for Weighted Average: 0.75 (Val F1: 0.720)\n",
      "\n",
      "\n",
      "Late Fusion Model Performance on Test Set:\n",
      "\n",
      "Logistic Regression: Acc=0.870, Prec=0.833, Rec=0.667, F1=0.741\n",
      "Random Forest: Acc=0.889, Prec=0.800, Rec=0.800, F1=0.800\n",
      "MLP: Acc=0.870, Prec=0.833, Rec=0.667, F1=0.741\n",
      "Simple Average: Acc=0.833, Prec=0.636, Rec=0.933, F1=0.757\n",
      "Weighted Average: Acc=0.889, Prec=0.800, Rec=0.800, F1=0.800\n"
     ]
    },
    {
     "data": {
      "image/png": "[encoded data removed]",
      "text/plain": [
       "<Figure size 800x600 with 1 Axes>"
      ]
     },
     "metadata": {},
     "output_type": "display_data"
    },
    {
     "data": {
      "image/png": "[encoded data removed]",
      "text/plain": [
       "<Figure size 1000x600 with 1 Axes>"
      ]
     },
     "metadata": {},
     "output_type": "display_data"
    }
   ],
   "source": [
    "import torch\n",
    "import numpy as np\n",
    "import matplotlib.pyplot as plt\n",
    "from sklearn.linear_model import LogisticRegression\n",
    "from sklearn.ensemble import RandomForestClassifier\n",
    "from sklearn.metrics import accuracy_score, precision_score, recall_score, f1_score\n",
    "from sklearn.neural_network import MLPClassifier\n",
    "from tqdm import tqdm\n",
    "\n",
    "device = torch.device('cuda' if torch.cuda.is_available() else 'cpu')\n",
    "tab_model = tab_mod\n",
    "\n",
    "# ===============================\n",
    "# Feature Extraction for Late Fusion\n",
    "def extract_joint_features(loader, mri_model, tab_model, device, slice_idx=6):\n",
    "    cnn_probs, rf_probs, labels = [], [], []\n",
    "    mri_model.eval()\n",
    "    with torch.no_grad():\n",
    "        for batch in loader:\n",
    "            imgs = batch['mri'][:, :, slice_idx, :, :].to(device)\n",
    "            outputs = mri_model(imgs)\n",
    "            probs = torch.softmax(outputs, dim=1).cpu().numpy()\n",
    "            cnn_probs.append(probs)\n",
    "            \n",
    "            tab_feats = batch['tabular'].cpu().numpy()\n",
    "            tab_feats = np.delete(tab_feats, 2, axis = 1)\n",
    "            rf_probs.append(tab_model.model.predict_proba(tab_feats))\n",
    "            \n",
    "            labels.append(batch['label'].view(-1).cpu().numpy())\n",
    "\n",
    "    return np.concatenate(cnn_probs), np.concatenate(rf_probs), np.concatenate(labels)\n",
    "\n",
    "# Extract Features\n",
    "cnn_probs_train, X_train_rf, true_train_labels = extract_joint_features(train_loader, mri_model, tab_model, device)\n",
    "cnn_probs_val, X_val_rf, true_val_labels = extract_joint_features(val_loader, mri_model, tab_model, device)\n",
    "cnn_probs_test, X_test_rf, true_test_labels = extract_joint_features(test_loader, mri_model, tab_model, device)\n",
    "\n",
    "# ===============================\n",
    "# Find Best Weight for Weighted Average (Validation Set)\n",
    "best_f1, best_weight = -1, 0.5\n",
    "for w in np.linspace(0, 1, 21):\n",
    "    blended_probs = w * X_val_rf + (1 - w) * cnn_probs_val\n",
    "    preds = np.argmax(blended_probs, axis=1)\n",
    "    f1 = f1_score(true_val_labels, preds)\n",
    "    if f1 > best_f1:\n",
    "        best_f1, best_weight = f1, w\n",
    "\n",
    "print(f\"\\nBest Weight for Weighted Average: {best_weight:.2f} (Val F1: {best_f1:.3f})\\n\")\n",
    "\n",
    "# ===============================\n",
    "# Hyperparameter Tuning for MLP (Validation Set)\n",
    "# mlp_params = {\n",
    "#     'hidden_layer_sizes': [(64,), (128,), (128, 64), (256, 128)],\n",
    "#     'dropout': [0.3, 0.5],  # Placeholder, dropout isn't directly supported by MLPClassifier.\n",
    "#     'learning_rate_init': [0.001, 0.0005]\n",
    "# }\n",
    "\n",
    "# results = []\n",
    "# for hls in mlp_params['hidden_layer_sizes']:\n",
    "#     for lr in mlp_params['learning_rate_init']:\n",
    "#         mlp = MLPClassifier(hidden_layer_sizes=hls, learning_rate_init=lr, max_iter=500, random_state=42)\n",
    "#         mlp.fit(np.concatenate([cnn_probs_train, X_train_rf], axis=1), true_train_labels)\n",
    "#         preds = mlp.predict(np.concatenate([cnn_probs_val, X_val_rf], axis=1))\n",
    "#         f1 = f1_score(true_val_labels, preds)\n",
    "#         results.append({'hidden_layers': hls, 'lr': lr, 'f1': f1})\n",
    "\n",
    "# # Print MLP Hyperparameter Search Results\n",
    "# print(\"\\nMLP Validation Performance:\\n\")\n",
    "# for r in results:\n",
    "#     print(f\"Hidden Layers: {r['hidden_layers']}, LR: {r['lr']}, Val F1: {r['f1']:.3f}\")\n",
    "\n",
    "# # Select Best MLP\n",
    "# best_mlp_config = max(results, key=lambda x: x['f1'])\n",
    "final_mlp = MLPClassifier(\n",
    "    hidden_layer_sizes=(64,),\n",
    "    learning_rate_init=0.0005,\n",
    "    max_iter=500,\n",
    "    random_state=42\n",
    ").fit(np.concatenate([cnn_probs_train, X_train_rf], axis=1), true_train_labels)\n",
    "\n",
    "# ===============================\n",
    "# Final Model Evaluation on Test Set\n",
    "fusion_inputs_test = np.concatenate([cnn_probs_test, X_test_rf], axis=1)\n",
    "\n",
    "fusion_models = {\n",
    "    \"Logistic Regression\": LogisticRegression(max_iter=1000).fit(\n",
    "        np.concatenate([cnn_probs_train, X_train_rf], axis=1), true_train_labels),\n",
    "    \"Random Forest\": RandomForestClassifier(n_estimators=100, max_depth = 5, max_features = 'sqrt').fit(\n",
    "        np.concatenate([cnn_probs_train, X_train_rf], axis=1), true_train_labels),\n",
    "    \"MLP\": final_mlp,\n",
    "    \"Simple Average\": None,\n",
    "    \"Weighted Average\": None\n",
    "}\n",
    "\n",
    "# ===============================\n",
    "# Predictions and Metrics\n",
    "fusion_preds = {}\n",
    "for name, model in fusion_models.items():\n",
    "    if model is not None:\n",
    "        preds = model.predict(fusion_inputs_test)\n",
    "    else:\n",
    "        avg_probs = (cnn_probs_test + X_test_rf) / 2\n",
    "        if name == \"Weighted Average\":\n",
    "            avg_probs = best_weight * X_test_rf + (1 - best_weight) * cnn_probs_test\n",
    "        preds = np.argmax(avg_probs, axis=1)\n",
    "    fusion_preds[name] = preds\n",
    "\n",
    "def compute_metrics(y_true, y_pred):\n",
    "    return {\n",
    "        \"Accuracy\": accuracy_score(y_true, y_pred),\n",
    "        \"Precision\": precision_score(y_true, y_pred),\n",
    "        \"Recall\": recall_score(y_true, y_pred),\n",
    "        \"F1 Score\": f1_score(y_true, y_pred)\n",
    "    }\n",
    "\n",
    "metrics_table = {}\n",
    "for name, preds in fusion_preds.items():\n",
    "    metrics_table[name] = compute_metrics(true_test_labels, preds)\n",
    "\n",
    "print(\"\\nLate Fusion Model Performance on Test Set:\\n\")\n",
    "for name, metrics in metrics_table.items():\n",
    "    print(f\"{name}: Acc={metrics['Accuracy']:.3f}, Prec={metrics['Precision']:.3f}, \"\n",
    "          f\"Rec={metrics['Recall']:.3f}, F1={metrics['F1 Score']:.3f}\")\n",
    "\n",
    "# ===============================\n",
    "# Compute Per-CDR Accuracy\n",
    "cdr_vals = np.unique([dataset.multiclass_labels[i] for i in test_loader.dataset.indices])\n",
    "test_cdr_labels = [dataset.multiclass_labels[i] for i in test_loader.dataset.indices]\n",
    "\n",
    "def compute_per_cdr_accuracy(preds, true_labels, cdr_labels):\n",
    "    preds, true_labels, cdr_labels = map(np.array, [preds, true_labels, cdr_labels])\n",
    "    cdr_values = np.unique(cdr_labels)\n",
    "    accuracies = []\n",
    "    for cdr in cdr_values:\n",
    "        mask = (cdr_labels == cdr)\n",
    "        if np.sum(mask) == 0:\n",
    "            accuracies.append(np.nan)\n",
    "        else:\n",
    "            accuracies.append(accuracy_score(true_labels[mask], preds[mask]))\n",
    "    return cdr_values, accuracies\n",
    "\n",
    "fusion_cdr_accuracies = {}\n",
    "for name, preds in fusion_preds.items():\n",
    "    _, acc = compute_per_cdr_accuracy(preds, true_test_labels, test_cdr_labels)\n",
    "    fusion_cdr_accuracies[name] = acc\n",
    "\n",
    "# ===============================\n",
    "# Plot 1: Best Late Fusion vs Baselines\n",
    "best_model_name = max(metrics_table.items(), key=lambda x: x[1]['F1 Score'])[0]\n",
    "acc_best = fusion_cdr_accuracies[best_model_name]\n",
    "\n",
    "plt.figure(figsize=(8, 6))\n",
    "x = np.arange(len(cdr_vals))\n",
    "bar_width = 0.2\n",
    "\n",
    "bars_mri = plt.bar(x - bar_width, acc_mri, bar_width, label=\"MRI\", color='skyblue')\n",
    "bars_tab = plt.bar(x, acc_tab, bar_width, label=\"Tabular RF\", color='orange')\n",
    "bars_fusion = plt.bar(x + bar_width, acc_fusion, bar_width, label=\"Early Fusion\", color='green')\n",
    "bars_best = plt.bar(x + 2 * bar_width, acc_best, bar_width, label=f\"Late Fusion ({best_model_name})\", color='red')\n",
    "\n",
    "for bars in [bars_mri, bars_tab, bars_fusion, bars_best]:\n",
    "    for bar in bars:\n",
    "        height = bar.get_height()\n",
    "        if not np.isnan(height):\n",
    "            plt.text(bar.get_x() + bar.get_width() / 2, height + 0.02, f'{height:.2f}', \n",
    "                     ha='center', va='bottom', fontsize=8)\n",
    "\n",
    "plt.xlabel('CDR Value')\n",
    "plt.ylabel('Accuracy')\n",
    "plt.title('Best Late Fusion vs Baselines')\n",
    "plt.xticks(x, cdr_vals)\n",
    "plt.ylim(0, 1.1)\n",
    "plt.legend()\n",
    "plt.tight_layout()\n",
    "plt.show()\n",
    "\n",
    "# ===============================\n",
    "# Plot 2: All Late Fusion Models by CDR\n",
    "plt.figure(figsize=(10, 6))\n",
    "bar_width = 0.15\n",
    "\n",
    "for idx, (name, acc) in enumerate(fusion_cdr_accuracies.items()):\n",
    "    bars = plt.bar(x + idx * bar_width, acc, width=bar_width, label=name)\n",
    "    for bar in bars:\n",
    "        height = bar.get_height()\n",
    "        if not np.isnan(height):\n",
    "            plt.text(bar.get_x() + bar.get_width() / 2, height + 0.02, f'{height:.2f}', \n",
    "                     ha='center', va='bottom', fontsize=8)\n",
    "\n",
    "plt.xlabel('CDR Value')\n",
    "plt.ylabel('Accuracy')\n",
    "plt.title('Late Fusion Models by CDR')\n",
    "plt.xticks(x + bar_width * (len(fusion_cdr_accuracies) - 1) / 2, cdr_vals)\n",
    "plt.ylim(0, 1.1)\n",
    "plt.legend()\n",
    "plt.tight_layout()\n",
    "plt.show()\n"
   ]
  }
 ],
 "metadata": {
  "kernelspec": {
   "display_name": "lola",
   "language": "python",
   "name": "python3"
  },
  "language_info": {
   "codemirror_mode": {
    "name": "ipython",
    "version": 3
   },
   "file_extension": ".py",
   "mimetype": "text/x-python",
   "name": "python",
   "nbconvert_exporter": "python",
   "pygments_lexer": "ipython3",
   "version": "3.11.9"
  }
 },
 "nbformat": 4,
 "nbformat_minor": 2
}
